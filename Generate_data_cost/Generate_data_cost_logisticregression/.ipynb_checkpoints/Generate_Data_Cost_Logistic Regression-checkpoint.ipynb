{
 "cells": [
  {
   "cell_type": "code",
   "execution_count": null,
   "metadata": {
    "collapsed": true
   },
   "outputs": [],
   "source": []
  },
  {
   "cell_type": "code",
   "execution_count": 315,
   "metadata": {
    "collapsed": false
   },
   "outputs": [
    {
     "name": "stdout",
     "output_type": "stream",
     "text": [
      "[[ 0.45327379  0.6701394   0.94114774  0.03358291  0.45941219]\n",
      " [ 0.48150002  0.18688388  0.25873685  0.78163028  0.72192797]\n",
      " [ 0.56436215  0.55828582  0.37439908  0.30584847  0.9766158 ]\n",
      " ..., \n",
      " [ 0.80515387  0.4089481   0.88790438  0.91868577  0.84169766]\n",
      " [ 0.65450973  0.36756073  0.46903666  0.6107932   0.85718928]\n",
      " [ 0.99606748  0.44759338  0.40623341  0.89864633  0.98669777]] [[ 1.]\n",
      " [ 0.]\n",
      " [ 1.]\n",
      " ..., \n",
      " [ 1.]\n",
      " [ 1.]\n",
      " [ 1.]]\n",
      "0.4453\n"
     ]
    }
   ],
   "source": [
    "def generate_data_lr(N,d,sigma):\n",
    "    # generate X uniform distributed between[0,1]\n",
    "    X=np.random.uniform(0,1,size=(N,d))\n",
    "    # generate noise normal distributed, mean 0, variance sigam^2\n",
    "    noise=np.random.normal(0.0,sigma,(N,1))\n",
    "    # add a collumnn of b so that the model is y=X*beta+b, \n",
    "    b=np.ones((N,1))\n",
    "    X_modify=np.concatenate((X,b),axis=1)\n",
    "    # generate hypothesis of the linear classification, it is d+1 dimension vector\n",
    "    h=np.random.uniform(0,1.0,size=(d,1))\n",
    "    # generate value of y if it is a linear regression problem\n",
    "    y_linear=np.dot(X,h)\n",
    "    # transform y_linear into a  0-1 label based on logistic regression model\n",
    "    y=1 / (1 + np.exp(-y_linear))\n",
    "    for i in range(0,N):\n",
    "        e=np.random.uniform(0,1,size=(1,1))\n",
    "        if y_linear[i,0]>= 1.2:\n",
    "            y[i,0]=1\n",
    "        else:\n",
    "            y[i,0]=0    \n",
    "    return X,y,h\n",
    "\n",
    "#Initialize the number of samples, data points and noise level\n",
    "N=10000\n",
    "d=5\n",
    "sigma=0.01\n",
    "# generate data based on logistic regression model\n",
    "[X_lr,y_lr,h_lr]=generate_data_lr(N,d,sigma)\n",
    "print X_lr,y_lr\n",
    "print np.mean(y_lr)\n",
    "np.savetxt('X_lr.txt', X_lr, delimiter=',')\n",
    "np.savetxt('y_lr.txt', y_lr, delimiter=',')\n",
    "np.savetxt('h_lr.txt',h_lr,delimiter=',')"
   ]
  },
  {
   "cell_type": "code",
   "execution_count": 288,
   "metadata": {
    "collapsed": false
   },
   "outputs": [
    {
     "data": {
      "text/plain": [
       "0.99997840655297943"
      ]
     },
     "execution_count": 288,
     "metadata": {},
     "output_type": "execute_result"
    }
   ],
   "source": [
    "np.max(X_lr)"
   ]
  },
  {
   "cell_type": "code",
   "execution_count": 181,
   "metadata": {
    "collapsed": false
   },
   "outputs": [],
   "source": [
    "import numpy as np\n",
    "import math as math\n",
    "\n",
    "'''\n",
    "This function is to generate data with binary label, based on the model of Logistic Regression\n",
    "'X' is sampled from a uniform distribution between [0,1]\n",
    "hypothesis 'h' is generated from a integer uniform distribution between [-5,5]\n",
    "the noise level 'sigma' is generated from a normal distribution with mean 0 and std sigma\n",
    "label y is generated in the way below:\n",
    "first generate y_linear=X*w+sigma as a linear problem\n",
    "and then use logistic regression model to transform y_linear to a probability between [0,1]\n",
    "and then generate a variable 'e' uniformly from [0,1], \n",
    "if y_linear>e ,set the label to be 1, otherwise set the label to be 0.\n",
    "\n",
    "Input: number of samples N,dimension of data d, noise level sigma\n",
    "\n",
    "Output: generate X, label y, realy hypothesis h\n",
    "'''\n",
    "\n",
    "def generate_data_lr(N,d,sigma):\n",
    "    # generate X uniform distributed between[-1,1]\n",
    "    X=np.random.uniform(-1,1,size=(N,d))\n",
    "    # generate noise normal distributed, mean 0, variance sigam^2\n",
    "    noise=np.random.normal(0.0,sigma,(N,1))\n",
    "    # add a collumnn of b so that the model is y=X*beta+b, \n",
    "    b=np.ones((N,1))\n",
    "    X_modify=np.concatenate((X,b),axis=1)\n",
    "    # generate hypothesis of the linear classification, it is d+1 dimension vector\n",
    "    h=np.random.uniform(-5.0,5.0,size=(d+1,1))\n",
    "    # generate value of y if it is a linear regression problem\n",
    "    y_linear=np.dot(X_modify,h)+noise\n",
    "    # transform y_linear into a  0-1 label based on logistic regression model\n",
    "    y=1 / (1 + np.exp(-y_linear))\n",
    "    for i in range(0,N):\n",
    "        e=np.random.uniform(0,1,size=(1,1))\n",
    "        if y[i,0]>=e:\n",
    "            y[i,0]=1\n",
    "        else:\n",
    "            y[i,0]=0\n",
    "    \n",
    "    return X,y,h\n",
    "\n",
    "\n",
    "\n",
    "\n",
    "\n",
    "'''\n",
    "function generate_cost_SampleGroup is to generate cost correlated with their group\n",
    "first randomly assign a group label for each sample, \n",
    "In each group, the cost is a normal distribution with a specific mean and variance\n",
    "Input:\n",
    "'Group_Number' is a integer showing the number of groups\n",
    "'Cost_Mean' is a 1-D vector contains the cost mean of each group\n",
    "'Cost_Var' is a 1-D vector contains the cost variance of each group\n",
    "'X' generated data\n",
    "'cost_sg' is a sample\n",
    "'''\n",
    "\n",
    "\n",
    "def generate_cost_SampleGroup(Group_Number,Cost_Mean,Cost_Var,X):\n",
    "    # number of samples\n",
    "    N=X.shape[0]\n",
    "    # initialize the cost vector of data\n",
    "    cost_sg=np.zeros((N,1))\n",
    "    # randomly assign group label for each sample\n",
    "    group_label=np.random.randint(1,Group_Number,(N,1))\n",
    "    # sample the cost for each sample\n",
    "    for i in range(0,N):\n",
    "        mean=Cost_Mean[int(group_label[i,0]),0];\n",
    "        var=Cost_Var[int(group_label[i,0]),0];\n",
    "        cost=np.random.normal(mean,var,1);\n",
    "        cost_sg[i,0]=cost;\n",
    "    \n",
    "    cost_sg=cost_sg/np.sum(cost_sg, axis=0)*N\n",
    "    return cost_sg\n",
    "\n",
    "'''\n",
    "function convex_cff and linear_cff are two functions that map a specific feature to a cost\n",
    "Input 'a','b','c' the parameter in the function ,'x' the feature\n",
    "'''\n",
    "\n",
    "def convex_cff(a,b,c,x):\n",
    "    cost=a*np.multiply(x,x)+b*x+c\n",
    "    return cost\n",
    "\n",
    "def linear_cff(a,b,x):\n",
    "    cost=a*x+b\n",
    "    return cost\n",
    "\n",
    "'''\n",
    "This function is for generate features correlated with features, \n",
    "Input: X, generated features\n",
    "       coeff: cost function parameter for every feature,\n",
    "       for exaple, if I use convex_cff, then for each feature i I have [coeff[i,0],coeff[i,1],coeff[i,2]]\n",
    "       corresponding to a,b c in the function\n",
    "       w: weight parameter for every features\n",
    "Output: the normalized output cost correlated with features\n",
    "'''\n",
    "\n",
    "\n",
    "def generate_cost_Features(X,coeff,w):\n",
    "    N=X.shape[0]\n",
    "    d=X.shape[1]\n",
    "    # calculate the cost for each features\n",
    "    for i in range(0,d):\n",
    "        X[:,i]=convex_cff(coeff[i,0],coeff[i,1],coeff[i,2],X[:,i])\n",
    "    cost_fts=np.dot(X,w)\n",
    "    # normalized cost, for each data set the total cost is the number of its data points\n",
    "    cost_fts=cost_fts/np.sum(cost_fts, axis=0)*N\n",
    "    return cost_fts"
   ]
  },
  {
   "cell_type": "code",
   "execution_count": 38,
   "metadata": {
    "collapsed": true
   },
   "outputs": [],
   "source": [
    "%matplotlib inline\n",
    "import matplotlib.pyplot as plt"
   ]
  },
  {
   "cell_type": "code",
   "execution_count": 289,
   "metadata": {
    "collapsed": false
   },
   "outputs": [
    {
     "name": "stdout",
     "output_type": "stream",
     "text": [
      "[[-0.61765532  0.26838608 -0.38171446 -0.67063965  0.03527408]\n",
      " [ 0.19440607  0.3651364  -0.72354598 -0.15975544  0.72854209]\n",
      " [-0.2664503   0.76683299 -0.55774793 -0.33905088  0.8895065 ]\n",
      " ..., \n",
      " [-0.87348775  0.85660987 -0.53994199  0.26262396 -0.32660498]\n",
      " [-0.57492295 -0.49517425  0.74668969  0.24396318  0.51281383]\n",
      " [ 0.74333419 -0.9108543  -0.84782505  0.54799173 -0.78198953]] [[ 0.]\n",
      " [ 0.]\n",
      " [ 1.]\n",
      " ..., \n",
      " [ 1.]\n",
      " [ 0.]\n",
      " [ 0.]]\n"
     ]
    }
   ],
   "source": [
    "import numpy as np\n",
    "import math as math\n",
    "\n",
    "'''\n",
    "This function is to generate data with binary label, based on the model of Logistic Regression\n",
    "'X' is sampled from a uniform distribution between [0,1]\n",
    "hypothesis 'h' is generated from a integer uniform distribution between [-5,5]\n",
    "the noise level 'sigma' is generated from a normal distribution with mean 0 and std sigma\n",
    "label y is generated in the way below:\n",
    "first generate y_linear=X*w+sigma as a linear problem\n",
    "and then use logistic regression model to transform y_linear to a probability between [0,1]\n",
    "and then generate a variable 'e' uniformly from [0,1], \n",
    "if y_linear>e ,set the label to be 1, otherwise set the label to be 0.\n",
    "\n",
    "Input: number of samples N,dimension of data d, noise level sigma\n",
    "\n",
    "Output: generate X, label y, realy hypothesis h\n",
    "'''\n",
    "\n",
    "def generate_data_lr(N,d,sigma):\n",
    "    # generate X uniform distributed between[-1,1]\n",
    "    X=np.random.uniform(-1,1,size=(N,d))\n",
    "    # generate noise normal distributed, mean 0, variance sigam^2\n",
    "    noise=np.random.normal(0.0,sigma,(N,1))\n",
    "    # add a collumnn of b so that the model is y=X*beta+b, \n",
    "    b=np.ones((N,1))\n",
    "    X_modify=np.concatenate((X,b),axis=1)\n",
    "    # generate hypothesis of the linear classification, it is d+1 dimension vector\n",
    "    h=np.random.uniform(-5.0,5.0,size=(d+1,1))\n",
    "    # generate value of y if it is a linear regression problem\n",
    "    y_linear=np.dot(X_modify,h)+noise\n",
    "    # transform y_linear into a  0-1 label based on logistic regression model\n",
    "    y=1 / (1 + np.exp(-y_linear))\n",
    "    for i in range(0,N):\n",
    "        e=np.random.uniform(0,1,size=(1,1))\n",
    "        if y[i,0]>=0.55:\n",
    "            y[i,0]=1\n",
    "        else:\n",
    "            y[i,0]=0\n",
    "    \n",
    "    return X,y,h\n",
    "\n",
    "\n",
    "\n",
    "\n",
    "\n",
    "'''\n",
    "function generate_cost_SampleGroup is to generate cost correlated with their group\n",
    "first randomly assign a group label for each sample, \n",
    "In each group, the cost is a normal distribution with a specific mean and variance\n",
    "Input:\n",
    "'Group_Number' is a integer showing the number of groups\n",
    "'Cost_Mean' is a 1-D vector contains the cost mean of each group\n",
    "'Cost_Var' is a 1-D vector contains the cost variance of each group\n",
    "'X' generated data\n",
    "'cost_sg' is a sample\n",
    "'''\n",
    "\n",
    "\n",
    "def generate_cost_SampleGroup(Group_Number,Cost_Mean,Cost_Var,X):\n",
    "    # number of samples\n",
    "    N=X.shape[0]\n",
    "    # initialize the cost vector of data\n",
    "    cost_sg=np.zeros((N,1))\n",
    "    # randomly assign group label for each sample\n",
    "    group_label=np.random.randint(1,Group_Number,(N,1))\n",
    "    # sample the cost for each sample\n",
    "    for i in range(0,N):\n",
    "        mean=Cost_Mean[int(group_label[i,0]),0];\n",
    "        var=Cost_Var[int(group_label[i,0]),0];\n",
    "        cost=np.random.normal(mean,var,1);\n",
    "        cost_sg[i,0]=cost;\n",
    "    \n",
    "    cost_sg=cost_sg/np.sum(cost_sg, axis=0)*N\n",
    "    return cost_sg\n",
    "\n",
    "'''\n",
    "function convex_cff and linear_cff are two functions that map a specific feature to a cost\n",
    "Input 'a','b','c' the parameter in the function ,'x' the feature\n",
    "'''\n",
    "\n",
    "def convex_cff(a,b,c,x):\n",
    "    cost=a*np.multiply(x,x)+b*x+c\n",
    "    return cost\n",
    "\n",
    "def linear_cff(a,b,x):\n",
    "    cost=a*x+b\n",
    "    return cost\n",
    "\n",
    "'''\n",
    "This function is for generate features correlated with features, \n",
    "Input: X, generated features\n",
    "       coeff: cost function parameter for every feature,\n",
    "       for exaple, if I use convex_cff, then for each feature i I have [coeff[i,0],coeff[i,1],coeff[i,2]]\n",
    "       corresponding to a,b c in the function\n",
    "       w: weight parameter for every features\n",
    "Output: the normalized output cost correlated with features\n",
    "'''\n",
    "\n",
    "\n",
    "def generate_cost_Features(X,coeff,w):\n",
    "    N=X.shape[0]\n",
    "    d=X.shape[1]\n",
    "    J = X.copy()\n",
    "    # calculate the cost for each features\n",
    "    for i in range(0,d):\n",
    "        J[:,i]=convex_cff(coeff[i,0],coeff[i,1],coeff[i,2],J[:,i])\n",
    "    cost_fts=np.dot(X,w)\n",
    "    # normalized cost, for each data set the total cost is the number of its data points\n",
    "    cost_fts=cost_fts/np.sum(cost_fts, axis=0)*N\n",
    "    return cost_fts\n",
    "\n",
    "\n",
    "'''\n",
    "main part of the data generating file\n",
    "'''\n",
    "\n",
    "# #Initialize the number of samples, data points and noise level\n",
    "# N=10000\n",
    "# d=5\n",
    "# sigma=0.01\n",
    "# # generate data based on logistic regression model\n",
    "# [X_lr,y_lr,h_lr]=generate_data_lr(N,d,sigma)\n",
    "# print X_lr,y_lr\n",
    "# np.savetxt('X_lr.txt', X_lr, delimiter=',')\n",
    "# np.savetxt('y_lr.txt', y_lr, delimiter=',')\n",
    "# np.savetxt('h_lr.txt',h_lr,delimiter=',')"
   ]
  },
  {
   "cell_type": "code",
   "execution_count": 141,
   "metadata": {
    "collapsed": false
   },
   "outputs": [
    {
     "name": "stdout",
     "output_type": "stream",
     "text": [
      "[[ 0.47617581  0.79347999  0.65698074 -0.33298017  0.03159344]\n",
      " [ 0.26211678  0.96874086 -0.44697624  0.51121342  0.5889732 ]\n",
      " [-0.96685305  0.20028892 -0.953653   -0.33013612 -0.69677522]\n",
      " ..., \n",
      " [-0.65081358 -0.88545769  0.50651116 -0.16475792  0.97712451]\n",
      " [-0.86562012  0.6895071  -0.46203194  0.17617903 -0.84866722]\n",
      " [-0.96866192 -0.70149848 -0.83809632  0.11194179  0.76741621]] [[ 1.]\n",
      " [ 1.]\n",
      " [ 0.]\n",
      " ..., \n",
      " [ 1.]\n",
      " [ 0.]\n",
      " [ 0.]]\n"
     ]
    }
   ],
   "source": [
    "#Initialize the number of samples, data points and noise level\n",
    "N=10000\n",
    "d=5\n",
    "sigma=0.01\n",
    "# generate data based on logistic regression model\n",
    "[X_lr,y_lr,h_lr]=generate_data_lr(N,d,sigma)\n",
    "print X_lr,y_lr\n",
    "np.savetxt('X_lr.txt', X_lr, delimiter=',')\n",
    "np.savetxt('y_lr.txt', y_lr, delimiter=',')\n",
    "np.savetxt('h_lr.txt',h_lr,delimiter=',')"
   ]
  },
  {
   "cell_type": "code",
   "execution_count": 390,
   "metadata": {
    "collapsed": false
   },
   "outputs": [],
   "source": [
    "def generate_cost_Features(X,coeff,w):\n",
    "    N=X.shape[0]\n",
    "    d=X.shape[1]\n",
    "    J = X.copy()\n",
    "    # calculate the cost for each features\n",
    "    cost_fts=np.dot(X,w)\n",
    "    # normalized cost, for each data set the total cost is the number of its data points\n",
    "    #cost_fts=cost_fts/np.sum(cost_fts, axis=0)*N\n",
    "    return cost_fts - np.mean(cost_fts) + 1"
   ]
  },
  {
   "cell_type": "code",
   "execution_count": 583,
   "metadata": {
    "collapsed": true
   },
   "outputs": [],
   "source": [
    "#Initialize the parameter for generate the cost correlated with sample groups\n",
    "Group_Number=5;\n",
    "#Cost_Mean=np.random.randint(5,10,(Group_Number,1))\n",
    "r=1.0;\n",
    "Cost_Mean=np.array([[5.0-2*r],[5.0-r],[5.0],[5.0+r],[5.0+2*r]])\n",
    "sigma_cost=0.01\n",
    "Cost_Var=sigma_cost*np.random.randint(1,5,(Group_Number,1))\n",
    "cost_sg_5=generate_cost_SampleGroup(Group_Number, Cost_Mean,Cost_Var,X_lr)\n",
    "\n",
    "r=2.0;\n",
    "Cost_Mean=np.array([[5.0-2*r],[5.0-r],[5.0],[5.0+r],[5.0+2*r]])\n",
    "cost_sg_10=generate_cost_SampleGroup(Group_Number, Cost_Mean,Cost_Var,X_lr)\n",
    "\n",
    "r=3.0;\n",
    "Cost_Mean=np.array([[5.0-2*r],[5.0-r],[5.0],[5.0+r],[5.0+2*r]])\n",
    "cost_sg_15=generate_cost_SampleGroup(Group_Number, Cost_Mean,Cost_Var,X_lr)\n",
    "\n",
    "\n",
    "r=4.0;\n",
    "Cost_Mean=np.array([[5.0-2*r],[5.0-r],[5.0],[5.0+r],[5.0+2*r]])\n",
    "cost_sg_20=generate_cost_SampleGroup(Group_Number, Cost_Mean,Cost_Var,X_lr)"
   ]
  },
  {
   "cell_type": "code",
   "execution_count": 588,
   "metadata": {
    "collapsed": false
   },
   "outputs": [
    {
     "data": {
      "text/plain": [
       "1.0"
      ]
     },
     "execution_count": 588,
     "metadata": {},
     "output_type": "execute_result"
    }
   ],
   "source": [
    "np.mean(cost_sg_10)"
   ]
  },
  {
   "cell_type": "code",
   "execution_count": 511,
   "metadata": {
    "collapsed": false
   },
   "outputs": [],
   "source": [
    "#Initialize the parameter for generate the cost correlated with sample groups\n",
    "Group_Number=5;\n",
    "#Cost_Mean=np.random.randint(5,10,(Group_Number,1))\n",
    "r=0.5;\n",
    "Cost_Mean=np.array([[5.0-2*r],[5.0-r],[5.0],[5.0+r],[5.0+2*r]])\n",
    "sigma_cost=0.01\n",
    "Cost_Var=sigma_cost*np.random.randint(1,5,(Group_Number,1))\n",
    "cost_sg_5=generate_cost_SampleGroup(Group_Number, Cost_Mean,Cost_Var,X_lr)\n",
    "\n",
    "r=1.0;\n",
    "Cost_Mean=np.array([[5.0-2*r],[5.0-r],[5.0],[5.0+r],[5.0+2*r]])\n",
    "cost_sg_10=generate_cost_SampleGroup(Group_Number, Cost_Mean,Cost_Var,X_lr)\n",
    "\n",
    "r=1.5;\n",
    "Cost_Mean=np.array([[5.0-2*r],[5.0-r],[5.0],[5.0+r],[5.0+2*r]])\n",
    "cost_sg_15=generate_cost_SampleGroup(Group_Number, Cost_Mean,Cost_Var,X_lr)\n",
    "\n",
    "\n",
    "r=2.0;\n",
    "Cost_Mean=np.array([[5.0-2*r],[5.0-r],[5.0],[5.0+r],[5.0+2*r]])\n",
    "cost_sg_20=generate_cost_SampleGroup(Group_Number, Cost_Mean,Cost_Var,X_lr)\n",
    "\n",
    "#Initialize the parameter for generate the cost correlated with features\n",
    "#Group_Number=5;\n",
    "coeff = h_lr\n",
    "w=0.5*coeff\n",
    "#w=np.random.uniform(0.0,1.0,(d,1))\n",
    "cost_fts_5=generate_cost_Features(X_lr,coeff,w)\n",
    "np.savetxt('cost_fts_05.txt', cost_fts_5, delimiter=',')\n",
    "\n",
    "w=1.0*coeff\n",
    "#w=np.random.uniform(0.0,1.0,(d,1))\n",
    "cost_fts_10=generate_cost_Features(X_lr,coeff,w)\n",
    "np.savetxt('cost_fts_10.txt', cost_fts_10, delimiter=',')\n",
    "\n",
    "w=1.5*coeff\n",
    "#w=np.random.uniform(0.0,1.0,(d,1))\n",
    "cost_fts_15=generate_cost_Features(X_lr,coeff,w)\n",
    "\n",
    "w=2.0*coeff\n",
    "#w=np.random.uniform(0.0,1.0,(d,1))\n",
    "cost_fts_20=generate_cost_Features(X_lr,coeff,w)\n",
    "\n",
    "\n",
    "w=4.0*coeff\n",
    "#w=np.random.uniform(0.0,1.0,(d,1))\n",
    "cost_fts_40=generate_cost_Features(X_lr,coeff,w)\n"
   ]
  },
  {
   "cell_type": "code",
   "execution_count": 394,
   "metadata": {
    "collapsed": false
   },
   "outputs": [
    {
     "data": {
      "text/plain": [
       "0.57631783580624196"
      ]
     },
     "execution_count": 394,
     "metadata": {},
     "output_type": "execute_result"
    }
   ],
   "source": [
    "np.var(cost_fts_20)"
   ]
  },
  {
   "cell_type": "code",
   "execution_count": 222,
   "metadata": {
    "collapsed": false
   },
   "outputs": [
    {
     "data": {
      "text/plain": [
       "array([[ 0.],\n",
       "       [ 0.],\n",
       "       [ 0.],\n",
       "       ..., \n",
       "       [ 1.],\n",
       "       [ 0.],\n",
       "       [ 1.]])"
      ]
     },
     "execution_count": 222,
     "metadata": {},
     "output_type": "execute_result"
    }
   ],
   "source": [
    "y_lr"
   ]
  },
  {
   "cell_type": "code",
   "execution_count": 396,
   "metadata": {
    "collapsed": false
   },
   "outputs": [
    {
     "data": {
      "text/plain": [
       "[0, 1, 2, 3, 4, 5, 6, 7, 8, 9]"
      ]
     },
     "execution_count": 396,
     "metadata": {},
     "output_type": "execute_result"
    }
   ],
   "source": [
    "range(10)"
   ]
  },
  {
   "cell_type": "code",
   "execution_count": 427,
   "metadata": {
    "collapsed": true
   },
   "outputs": [],
   "source": [
    "import random\n",
    "import numpy as np \n",
    "\n",
    "class GradientDescent(object):\n",
    "    \"\"\"\n",
    "    Implementation of a gradient descent algorithm for binary classification.\n",
    "    The loss function is 1 if classified incorrectly, 0 if correctly,\n",
    "      but use a hinge loss for training.\n",
    "    Initialized with a list of digits to be labeled positively\n",
    "      (all others negatively).\n",
    "    The algorithm initializes self.w to be a vector of 0's.\n",
    "    Then for each of a sequence of rounds, check if the loss is positive;\n",
    "        if so do a gradient descent update.\n",
    "    Supports methods:\n",
    "        reset(eta)\n",
    "        norm_grad_loss(x, y)\n",
    "        test_error(X, Y)\n",
    "        data_update(x, y, importance_wt)\n",
    "        null_update()\n",
    "    \"\"\"\n",
    "    def __init__(self, num_features, pos_labels, eta=0.1):\n",
    "        # num_features = length of the x vector\n",
    "        # pos_labels   = list of digits in [0,9] to label positively (others negatively)\n",
    "        self.num_features = num_features\n",
    "        self.binarized_labels = [-1.0, 1.0]\n",
    "        self.reset(eta)\n",
    "        super(GradientDescent, self).__init__()\n",
    "\n",
    "    def reset(self, eta):\n",
    "        self.eta = eta\n",
    "        self.w = np.zeros(self.num_features)\n",
    "        self.avg_w = self.w\n",
    "        self.steps = 0\n",
    "    \n",
    "    # predict on only a single datapoint, using avg_w\n",
    "    def _predict_one(self,x):\n",
    "        return np.sign(self.avg_w.dot(x))\n",
    "\n",
    "    # predict on a matrix of data (shape is numdata * numfeatures)\n",
    "    def _predict(self,X):\n",
    "        Ypreds = np.apply_along_axis(self._predict_one, 1, X)\n",
    "        return Ypreds\n",
    "\n",
    "    # predict and report error on data (shape is numdata * numfeatures)\n",
    "    def test_error(self, X, Y):\n",
    "        Ypred = self._predict(X)\n",
    "        return np.mean(map(lambda y : self.binarized_labels[y], Y) != Ypred)\n",
    "\n",
    "    def _loss(self,x,biny):\n",
    "        score = self.w.dot(x) * biny\n",
    "        return max(1. - score, 0.)\n",
    "\n",
    "    def _grad_loss(self, x, biny):\n",
    "        # gradient of the loss\n",
    "        loss = self._loss(x,biny)\n",
    "        if loss > 0.:\n",
    "            return -biny * x\n",
    "        return np.zeros(self.num_features)\n",
    "\n",
    "    def norm_grad_loss(self, x, y):\n",
    "        # l2 norm of the gradient of the loss\n",
    "        return np.linalg.norm(self._grad_loss(x,self.binarized_labels[y]))\n",
    "\n",
    "    def _step(self):\n",
    "        # every step, whether we got a data_update or a null_update, we need to\n",
    "        # step the average\n",
    "        self.avg_w = (self.avg_w * self.steps + self.w) / float(self.steps + 1.0)\n",
    "        self.steps += 1\n",
    "\n",
    "    # Do an importance-weighted gradient descent update on the hypothesis\n",
    "    def data_update(self, x, y, importance_wt):\n",
    "        biny = self.binarized_labels[y]\n",
    "        loss = self._loss(x,biny)\n",
    "        if loss > 0.:\n",
    "            step = self.eta * self._grad_loss(x, biny)\n",
    "            self.w = self.w - step / importance_wt\n",
    "        self._step()\n",
    "\n",
    "    # Do an update with no new data\n",
    "    def null_update(self):\n",
    "        self._step()\n",
    "\n"
   ]
  },
  {
   "cell_type": "code",
   "execution_count": 512,
   "metadata": {
    "collapsed": true
   },
   "outputs": [],
   "source": [
    "import random\n",
    "import numpy as np \n",
    "\n",
    "# Rather than initializing with prior knowledge, we simply estimate gamma\n",
    "# online with a simple heuristic and set the normalizer K accordingly.\n",
    "\n",
    "# Estimating gamma:\n",
    "# We are using an importance-weighted estimate of gamma from the past data, i.e:\n",
    "#   gamma = (1/(# steps))*(sum_{t < now} {0 if we did not observe t,  else this_round_gamma / q_t}\n",
    "# where this_round_gamma = Delta(h_t,loss(.,z_t)) * (2sqrt(cmax) - sqrt(max(c*, c_t)))\n",
    "# and   q_t = Pr[ we posted a price higher than c_t for z_t ].\n",
    "\n",
    "# We also allow for discounting of past data by use of a discount factor.\n",
    "# This allows for forgetting past data as things change. Thus, the actual estimate is\n",
    "#   numerator = sum_{t <= s} discount^{s-t} {0 if not observe t, else .... }\n",
    "#   denominator = sum_{t <= s} discount^{s-t}\n",
    "#   gamma = numerator / denominator\n",
    "# For the paper we used discount=1, which reduces to the first, simpler estimator.\n",
    "\n",
    "# We initialize the numerator by 0 and denominator by a + b * T^c,\n",
    "# which is intended to act as a regularizer so we start with some momentum to buy points\n",
    "# and slowly decrease the buying rate as appropriate.\n",
    "\n",
    "\n",
    "INIT_GAMMA_A = 10.0\n",
    "INIT_GAMMA_B = 0.00001\n",
    "INIT_GAMMA_C = 0.1\n",
    "DISCOUNT = 1.0  # a discount factor for estimating gamma, if < 1, then old data is slowly forgotten\n",
    "\n",
    "class OurMech(object):\n",
    "    \"\"\"\n",
    "    This is our mechanism.\n",
    "    It is initialized for either the usual setting (default),\n",
    "  or \"at-cost\" (pay only the cost rather than your posted price).\n",
    "    \"\"\"\n",
    "    def __init__(self, alg, seed, T=1, B=1, eta=0.1, cmax=1.0, atcost = False):\n",
    "        self.alg = alg\n",
    "        self.randgen = random.Random(seed)\n",
    "        self.atcost = atcost\n",
    "        self.reset(eta, T, B, cmax=cmax)\n",
    "        super(OurMech, self).__init__()\n",
    "\n",
    "    # cmax = maximum cost\n",
    "    def reset(self, eta, T, B, cmax = 1.0):\n",
    "        self.T = T\n",
    "        self.B = B\n",
    "        self.cmax = cmax\n",
    "        self.spend = 0\n",
    "        self.step = 0\n",
    "        self.gamma_num = 0.0  # numerator\n",
    "        self.gamma_den = INIT_GAMMA_A + INIT_GAMMA_B * float(T)**INIT_GAMMA_C\n",
    "        self.gamma = self.gamma_num / self.gamma_den\n",
    "        self.alg.reset(eta)\n",
    "\n",
    "    # given quantile = Pr[price >= x], find and return x\n",
    "    def _get_price(self, quantile, delta, K):\n",
    "        if K == 0.0:\n",
    "            return self.cmax\n",
    "        val = delta / (K * quantile)\n",
    "        return min(self.cmax , val ** 2.0)\n",
    "\n",
    "    # return the probability price exceeds c\n",
    "    def _prob_exceeds(self, c, delta, K):\n",
    "        if K == 0.0 or c == 0.0:\n",
    "            return 1.0\n",
    "        return min(1.0 , delta / (K * c**0.5))\n",
    "\n",
    "    # update our estimate of gamma (using it to set the normalizer K next round)\n",
    "    def _update_gamma(self, cost, price, K, delta, prob_purchase):\n",
    "        self.gamma_num *= DISCOUNT  # we will add something if we obtain the point\n",
    "        self.gamma_den = self.gamma_den*DISCOUNT + 1.0\n",
    "        if price >= cost:\n",
    "            if self.atcost:\n",
    "                self.gamma_num += delta * cost**0.5 / prob_purchase  # importance-weighted\n",
    "            else:\n",
    "                cstar = self.cmax if K == 0.0 else min(self.cmax, (delta / K)**2.0)\n",
    "                self.gamma_num += delta * (2.0*self.cmax**0.5 - max(cost, cstar)**0.5) / prob_purchase\n",
    "        self.gamma = self.gamma_num / self.gamma_den\n",
    "\n",
    "    def _train(self, costs, Xtrain, Ytrain):\n",
    "        for i in xrange(len(costs)):\n",
    "            self.step += 1\n",
    "            delta = self.alg.norm_grad_loss(Xtrain[i], Ytrain[i])\n",
    "            c = costs[i]\n",
    "            K = self.gamma * float(self.T - self.step) / (self.B - self.spend)\n",
    "            quantile = self.randgen.random()\n",
    "            price = self._get_price(quantile, delta, K)\n",
    "            if price >= c:  # obtain the point\n",
    "                prob_purchase = self._prob_exceeds(c, delta, K)\n",
    "                self.alg.data_update(Xtrain[i], Ytrain[i], prob_purchase)\n",
    "                if self.atcost:\n",
    "                    self.spend += c\n",
    "                else:\n",
    "                    self.spend += price\n",
    "                if self.spend >= self.B:\n",
    "                    break\n",
    "                self._update_gamma(c, price, K, delta, prob_purchase)\n",
    "            else:\n",
    "                self.alg.null_update()\n",
    "\n",
    "    def train_and_get_err(self, costs, Xtrain, Ytrain, Xtest, Ytest):\n",
    "        self._train(costs, Xtrain, Ytrain)\n",
    "        return self.alg.test_error(Xtest, Ytest)"
   ]
  },
  {
   "cell_type": "code",
   "execution_count": 513,
   "metadata": {
    "collapsed": false
   },
   "outputs": [
    {
     "data": {
      "text/plain": [
       "0.44529999999999997"
      ]
     },
     "execution_count": 513,
     "metadata": {},
     "output_type": "execute_result"
    }
   ],
   "source": [
    "np.mean(y_lr)"
   ]
  },
  {
   "cell_type": "code",
   "execution_count": 514,
   "metadata": {
    "collapsed": true
   },
   "outputs": [],
   "source": [
    "TRAIN_FRACTION = 0.5"
   ]
  },
  {
   "cell_type": "code",
   "execution_count": 515,
   "metadata": {
    "collapsed": true
   },
   "outputs": [],
   "source": [
    "import sys\n",
    "import random\n",
    "def gen_seed():\n",
    "    return random.randint(0,sys.maxint-1)\n"
   ]
  },
  {
   "cell_type": "code",
   "execution_count": 516,
   "metadata": {
    "collapsed": false
   },
   "outputs": [],
   "source": [
    "mech = OurMech(GradientDescent(len(X_lr[0]), [1]), gen_seed())"
   ]
  },
  {
   "cell_type": "code",
   "execution_count": 517,
   "metadata": {
    "collapsed": false
   },
   "outputs": [
    {
     "data": {
      "text/plain": [
       "5"
      ]
     },
     "execution_count": 517,
     "metadata": {},
     "output_type": "execute_result"
    }
   ],
   "source": [
    "len(X_lr[0])"
   ]
  },
  {
   "cell_type": "code",
   "execution_count": 518,
   "metadata": {
    "collapsed": true
   },
   "outputs": [],
   "source": [
    "budgets = map(float, [40, 80, 120, 160, 320, 640, 1280, 4000, 9000, 20000])\n"
   ]
  },
  {
   "cell_type": "code",
   "execution_count": 519,
   "metadata": {
    "collapsed": true
   },
   "outputs": [],
   "source": [
    "def split_dataset(Xlist, Ylist, costs):\n",
    "    # divide the dataset into train and test\n",
    "    num_train_points = int(len(Xlist) * TRAIN_FRACTION)\n",
    "    indices = range(len(Xlist))\n",
    "    random.shuffle(indices)\n",
    "    Xtrain = [Xlist[i] for i in indices[0:num_train_points]]\n",
    "    Ytrain = [Ylist[i] for i in indices[0:num_train_points]]\n",
    "    Costtrain = [costs[i] for i in indices[0:num_train_points]]\n",
    "    Xtest  = [Xlist[i] for i in indices[num_train_points:-1]]\n",
    "    Ytest  = [Ylist[i] for i in indices[num_train_points:-1]]\n",
    "    Costtest = [costs[i] for i in indices[num_train_points:-1]]\n",
    "    return (Xtrain,Ytrain,Costtrain, Xtest,Ytest, Costtest)\n"
   ]
  },
  {
   "cell_type": "code",
   "execution_count": 520,
   "metadata": {
    "collapsed": false
   },
   "outputs": [],
   "source": [
    "my_seed = gen_seed()  # so we can record it and reproduce the entire experiment\n",
    "random.seed(my_seed)"
   ]
  },
  {
   "cell_type": "code",
   "execution_count": 521,
   "metadata": {
    "collapsed": false
   },
   "outputs": [],
   "source": [
    "Xlist = X_lr\n",
    "Ylist = [int(y) for y in y_lr]\n",
    "num_examples = [0]*2\n",
    "for y in Ylist:\n",
    "    num_examples[y] += 1    # labels are 0,...,9"
   ]
  },
  {
   "cell_type": "code",
   "execution_count": 522,
   "metadata": {
    "collapsed": false
   },
   "outputs": [],
   "source": [
    "errs = [0.0]*len(budgets)\n",
    "squared_errs = [0.0]*len(budgets)\n"
   ]
  },
  {
   "cell_type": "code",
   "execution_count": 536,
   "metadata": {
    "collapsed": true
   },
   "outputs": [],
   "source": [
    "TRIALS = 20\n",
    "(Xtrain,Ytrain,Costtrain, Xtest,Ytest, Costtest) = split_dataset(Xlist, Ylist, cost_fts_5)\n"
   ]
  },
  {
   "cell_type": "code",
   "execution_count": 530,
   "metadata": {
    "collapsed": false
   },
   "outputs": [
    {
     "data": {
      "text/plain": [
       "<matplotlib.text.Text at 0x11954dad0>"
      ]
     },
     "execution_count": 530,
     "metadata": {},
     "output_type": "execute_result"
    },
    {
     "data": {
      "image/png": "[encoded data removed]",
      "text/plain": [
       "<matplotlib.figure.Figure at 0x11795c050>"
      ]
     },
     "metadata": {},
     "output_type": "display_data"
    }
   ],
   "source": [
    "mech = OurMech(GradientDescent(len(X_lr[0]), [1]), gen_seed())\n",
    "errs5 = [0.0]*len(budgets)\n",
    "squared_errs5 = [0.0]*len(budgets)\n",
    "\n",
    "T = len(Xtrain)\n",
    "num_features = len(Xtrain[0])\n",
    "avg_data_norm = np.apply_along_axis(np.linalg.norm, 1, Xtrain).mean()\n",
    "eta = 0.1 / avg_data_norm  # rough heuristic, because the norm of the data is not normalized [0,1]\n",
    "\n",
    "for trial in xrange(TRIALS):\n",
    "    (Xtrain,Ytrain,Costtrain, Xtest,Ytest, Costtest) = split_dataset(Xlist, Ylist, cost_fts_5)\n",
    "    avg_data_norm = np.apply_along_axis(np.linalg.norm, 1, Xtrain).mean()\n",
    "    eta = 0.1 / avg_data_norm  # rough heuristic, because the norm of the data is not normalized [0,1]\n",
    "    for bi,B in enumerate(budgets):\n",
    "        mech.reset(eta, T, B, cmax=1.5)\n",
    "        temp = mech.train_and_get_err([sum(i) for i in Costtrain], Xtrain, Ytrain, Xtest, Ytest)\n",
    "        errs5[bi] += temp / float(TRIALS)\n",
    "        squared_errs5[bi] += temp*temp / float(TRIALS)\n",
    "\n",
    "plt.semilogx(budgets,squared_errs5, linewidth=1.0)\n",
    "plt.title(\"Chen/Waggoner Algorithm with Correlated Features of c= 0.05\")\n",
    "plt.xlabel(\"Budget\")\n",
    "plt.ylabel(\"Risk\")"
   ]
  },
  {
   "cell_type": "code",
   "execution_count": 531,
   "metadata": {
    "collapsed": false
   },
   "outputs": [
    {
     "data": {
      "text/plain": [
       "<matplotlib.text.Text at 0x1198cea50>"
      ]
     },
     "execution_count": 531,
     "metadata": {},
     "output_type": "execute_result"
    },
    {
     "data": {
      "image/png": "[encoded data removed]",
      "text/plain": [
       "<matplotlib.figure.Figure at 0x117b47510>"
      ]
     },
     "metadata": {},
     "output_type": "display_data"
    }
   ],
   "source": [
    "mech = OurMech(GradientDescent(len(X_lr[0]), [1]), gen_seed())\n",
    "errs10 = [0.0]*len(budgets)\n",
    "squared_errs10 = [0.0]*len(budgets)\n",
    "\n",
    "(Xtrain,Ytrain,Costtrain, Xtest,Ytest, Costtest) = split_dataset(Xlist, Ylist, cost_fts_10)\n",
    "T = len(Xtrain)\n",
    "num_features = len(Xtrain[0])\n",
    "avg_data_norm = np.apply_along_axis(np.linalg.norm, 1, Xtrain).mean()\n",
    "eta = 0.1 / avg_data_norm  # rough heuristic, because the norm of the data is not normalized [0,1]\n",
    "\n",
    "for trial in xrange(TRIALS):\n",
    "    (Xtrain,Ytrain,Costtrain, Xtest,Ytest, Costtest) = split_dataset(Xlist, Ylist, cost_fts_5)\n",
    "    for bi,B in enumerate(budgets):\n",
    "        mech.reset(eta, T, B, cmax=1.6)\n",
    "        temp = mech.train_and_get_err([sum(i) for i in Costtrain], Xtrain, Ytrain, Xtest, Ytest)\n",
    "        errs10[bi] += temp / float(TRIALS)\n",
    "        squared_errs10[bi] += temp*temp / float(TRIALS)\n",
    "\n",
    "plt.semilogx(budgets,squared_errs10, linewidth=1.0)\n",
    "plt.title(\"Chen/Waggoner Algorithm with Correlated Features of c= 0.10\")\n",
    "plt.xlabel(\"Budget\")\n",
    "plt.ylabel(\"Risk\")"
   ]
  },
  {
   "cell_type": "code",
   "execution_count": 532,
   "metadata": {
    "collapsed": false
   },
   "outputs": [
    {
     "data": {
      "text/plain": [
       "<matplotlib.text.Text at 0x119829bd0>"
      ]
     },
     "execution_count": 532,
     "metadata": {},
     "output_type": "execute_result"
    },
    {
     "data": {
      "image/png": "[encoded data removed]",
      "text/plain": [
       "<matplotlib.figure.Figure at 0x1192c5090>"
      ]
     },
     "metadata": {},
     "output_type": "display_data"
    }
   ],
   "source": [
    "mech = OurMech(GradientDescent(len(X_lr[0]), [1]), gen_seed())\n",
    "errs15 = [0.0]*len(budgets)\n",
    "squared_errs15 = [0.0]*len(budgets)\n",
    "\n",
    "(Xtrain,Ytrain,Costtrain, Xtest,Ytest, Costtest) = split_dataset(Xlist, Ylist, cost_fts_15)\n",
    "T = len(Xtrain)\n",
    "num_features = len(Xtrain[0])\n",
    "avg_data_norm = np.apply_along_axis(np.linalg.norm, 1, Xtrain).mean()\n",
    "eta = 0.1 / avg_data_norm  # rough heuristic, because the norm of the data is not normalized [0,1]\n",
    "\n",
    "for trial in xrange(TRIALS):\n",
    "    (Xtrain,Ytrain,Costtrain, Xtest,Ytest, Costtest) = split_dataset(Xlist, Ylist, cost_fts_5)\n",
    "    for bi,B in enumerate(budgets):\n",
    "        mech.reset(eta, T, B, cmax=2.5)\n",
    "        temp = mech.train_and_get_err([sum(i) for i in Costtrain], Xtrain, Ytrain, Xtest, Ytest)\n",
    "        errs15[bi] += temp / float(TRIALS)\n",
    "        squared_errs15[bi] += temp*temp / float(TRIALS)\n",
    "\n",
    "plt.semilogx(budgets,squared_errs15, linewidth=1.0)\n",
    "plt.title(\"Chen/Waggoner Algorithm with Correlated Features of c= 0.15\")\n",
    "plt.xlabel(\"Budget\")\n",
    "plt.ylabel(\"Risk\")"
   ]
  },
  {
   "cell_type": "code",
   "execution_count": 533,
   "metadata": {
    "collapsed": false
   },
   "outputs": [
    {
     "data": {
      "text/plain": [
       "<matplotlib.text.Text at 0x119b38c10>"
      ]
     },
     "execution_count": 533,
     "metadata": {},
     "output_type": "execute_result"
    },
    {
     "data": {
      "image/png": "[encoded data removed]",
      "text/plain": [
       "<matplotlib.figure.Figure at 0x119aac210>"
      ]
     },
     "metadata": {},
     "output_type": "display_data"
    }
   ],
   "source": [
    "mech = OurMech(GradientDescent(len(X_lr[0]), [1]), gen_seed())\n",
    "errs20 = [0.0]*len(budgets)\n",
    "squared_errs20 = [0.0]*len(budgets)\n",
    "\n",
    "(Xtrain,Ytrain,Costtrain, Xtest,Ytest, Costtest) = split_dataset(Xlist, Ylist, cost_fts_20)\n",
    "T = len(Xtrain)\n",
    "num_features = len(Xtrain[0])\n",
    "avg_data_norm = np.apply_along_axis(np.linalg.norm, 1, Xtrain).mean()\n",
    "eta = 0.1 / avg_data_norm  # rough heuristic, because the norm of the data is not normalized [0,1]\n",
    "\n",
    "for trial in xrange(TRIALS):\n",
    "    (Xtrain,Ytrain,Costtrain, Xtest,Ytest, Costtest) = split_dataset(Xlist, Ylist, cost_fts_5)\n",
    "    for bi,B in enumerate(budgets):\n",
    "        mech.reset(eta, T, B, cmax=5.0)\n",
    "        temp = mech.train_and_get_err([sum(i) for i in Costtrain], Xtrain, Ytrain, Xtest, Ytest)\n",
    "        errs20[bi] += temp / float(TRIALS)\n",
    "        squared_errs20[bi] += temp*temp / float(TRIALS)\n",
    "\n",
    "plt.semilogx(budgets,squared_errs20, linewidth=1.0)\n",
    "plt.title(\"Chen/Waggoner Algorithm with Correlated Features of c= 0.20\")\n",
    "plt.xlabel(\"Budget\")\n",
    "plt.ylabel(\"Risk\")"
   ]
  },
  {
   "cell_type": "code",
   "execution_count": 555,
   "metadata": {
    "collapsed": false
   },
   "outputs": [
    {
     "data": {
      "text/plain": [
       "<matplotlib.legend.Legend at 0x11c068a50>"
      ]
     },
     "execution_count": 555,
     "metadata": {},
     "output_type": "execute_result"
    },
    {
     "data": {
      "image/png": "[encoded data removed]",
      "text/plain": [
       "<matplotlib.figure.Figure at 0x11be38150>"
      ]
     },
     "metadata": {},
     "output_type": "display_data"
    }
   ],
   "source": [
    "plt.semilogx(budgets[1:],squared_errs5[1:], linewidth=1.5, label = 'Variance = 0.036')\n",
    "plt.semilogx(budgets[1:],squared_errs10[1:], linewidth=1.5, label = 'Variance = 0.144')\n",
    "plt.semilogx(budgets[1:],squared_errs15[1:], linewidth=1.5, label = 'Variance = 0.324')\n",
    "plt.semilogx(budgets[1:],squared_errs20[1:], linewidth=1.5, label = 'Variance = 0.576')\n",
    "#plt.semilogx(budgets,errs40, linewidth=1.5, label = 'Correlation = 4.0')\n",
    "plt.title(\"Algorithm  2 with Correlated Features\")\n",
    "plt.xlabel(\"Budget\")\n",
    "plt.ylabel(\"Error\")\n",
    "plt.legend(loc = 3)"
   ]
  },
  {
   "cell_type": "code",
   "execution_count": 463,
   "metadata": {
    "collapsed": true
   },
   "outputs": [],
   "source": [
    "import random\n",
    "import numpy as np \n",
    "\n",
    "class NaiveMech(object):\n",
    "    \"\"\"\n",
    "    This is the naive mechanism that simply posts a fixed price for all arriving\n",
    "    data.\n",
    "    \"\"\"\n",
    "    def __init__(self, alg, T=0, B=0, price_threshold=1.0):\n",
    "        self.alg = alg\n",
    "        self.reset(0.1, T, B, price_threshold=price_threshold)\n",
    "        super(NaiveMech, self).__init__()\n",
    "\n",
    "    # we don't need to know cmax, but for compatibility with the interface\n",
    "    def reset(self, eta, T, B, cmax=1.0, price_threshold=1.0):\n",
    "        self.T = T\n",
    "        self.B = B\n",
    "        self.price_threshold = price_threshold\n",
    "        self.spend = 0.0\n",
    "        self.alg.reset(eta)\n",
    "\n",
    "    def train_and_get_err(self, costs, Xtrain, Ytrain, Xtest, Ytest):\n",
    "        # train\n",
    "        for i in xrange(len(Xtrain)):\n",
    "            if costs[i] <= self.price_threshold:\n",
    "                self.spend += self.price_threshold\n",
    "                self.alg.data_update(Xtrain[i], Ytrain[i], 1.0)\n",
    "                if self.spend >= self.B:\n",
    "                    break\n",
    "            else:\n",
    "                self.alg.null_update()\n",
    "        # get err\n",
    "        return self.alg.test_error(Xtest, Ytest)\n"
   ]
  },
  {
   "cell_type": "code",
   "execution_count": 542,
   "metadata": {
    "collapsed": false
   },
   "outputs": [
    {
     "data": {
      "text/plain": [
       "<matplotlib.text.Text at 0x11a83de90>"
      ]
     },
     "execution_count": 542,
     "metadata": {},
     "output_type": "execute_result"
    },
    {
     "data": {
      "image/png": "[encoded data removed]",
      "text/plain": [
       "<matplotlib.figure.Figure at 0x11a38c310>"
      ]
     },
     "metadata": {},
     "output_type": "display_data"
    }
   ],
   "source": [
    "mech = NaiveMech(GradientDescent(len(X_lr[0]), [1]), gen_seed())\n",
    "naiveerrs20 = [0.0]*len(budgets)\n",
    "naivesquared_errs20 = [0.0]*len(budgets)\n",
    "\n",
    "(Xtrain,Ytrain,Costtrain, Xtest,Ytest, Costtest) = split_dataset(Xlist, Ylist, cost_fts_20)\n",
    "T = len(Xtrain)\n",
    "num_features = len(Xtrain[0])\n",
    "avg_data_norm = np.apply_along_axis(np.linalg.norm, 1, Xtrain).mean()\n",
    "eta = 0.1 / avg_data_norm  # rough heuristic, because the norm of the data is not normalized [0,1]\n",
    "\n",
    "for trial in xrange(TRIALS):\n",
    "    (Xtrain,Ytrain,Costtrain, Xtest,Ytest, Costtest) = split_dataset(Xlist, Ylist, cost_fts_20)\n",
    "    for bi,B in enumerate(budgets):\n",
    "        mech.reset(eta, T, B, cmax=5.0, price_threshold = 4.0)\n",
    "        temp = mech.train_and_get_err([sum(i) for i in Costtrain], Xtrain, Ytrain, Xtest, Ytest)\n",
    "        naiveerrs20[bi] += temp / float(TRIALS)\n",
    "        naivesquared_errs20[bi] += temp*temp / float(TRIALS)\n",
    "\n",
    "plt.semilogx(budgets,naivesquared_errs20, linewidth=1.0)\n",
    "plt.title(\"Chen/Waggoner Algorithm with Correlated Features of c= 0.20\")\n",
    "plt.xlabel(\"Budget\")\n",
    "plt.ylabel(\"Risk\")"
   ]
  },
  {
   "cell_type": "code",
   "execution_count": 541,
   "metadata": {
    "collapsed": false
   },
   "outputs": [
    {
     "data": {
      "text/plain": [
       "array([[ 1.29291028],\n",
       "       [ 0.9675083 ],\n",
       "       [ 1.67851013],\n",
       "       ..., \n",
       "       [ 2.26581741],\n",
       "       [ 1.61031514],\n",
       "       [ 2.20701709]])"
      ]
     },
     "execution_count": 541,
     "metadata": {},
     "output_type": "execute_result"
    }
   ],
   "source": [
    "cost_fts_20"
   ]
  },
  {
   "cell_type": "code",
   "execution_count": 543,
   "metadata": {
    "collapsed": false
   },
   "outputs": [
    {
     "data": {
      "text/plain": [
       "<matplotlib.text.Text at 0x11a65d050>"
      ]
     },
     "execution_count": 543,
     "metadata": {},
     "output_type": "execute_result"
    },
    {
     "data": {
      "image/png": "[encoded data removed]",
      "text/plain": [
       "<matplotlib.figure.Figure at 0x1196da210>"
      ]
     },
     "metadata": {},
     "output_type": "display_data"
    }
   ],
   "source": [
    "mech = NaiveMech(GradientDescent(len(X_lr[0]), [1]), gen_seed())\n",
    "\n",
    "naiveerrs10 = [0.0]*len(budgets)\n",
    "naivesquared_errs10 = [0.0]*len(budgets)\n",
    "\n",
    "(Xtrain,Ytrain,Costtrain, Xtest,Ytest, Costtest) = split_dataset(Xlist, Ylist, cost_fts_10)\n",
    "T = len(Xtrain)\n",
    "num_features = len(Xtrain[0])\n",
    "avg_data_norm = np.apply_along_axis(np.linalg.norm, 1, Xtrain).mean()\n",
    "eta = 0.1 / avg_data_norm  # rough heuristic, because the norm of the data is not normalized [0,1]\n",
    "\n",
    "for trial in xrange(TRIALS):\n",
    "    (Xtrain,Ytrain,Costtrain, Xtest,Ytest, Costtest) = split_dataset(Xlist, Ylist, cost_fts_10)\n",
    "    for bi,B in enumerate(budgets):\n",
    "        mech.reset(eta, T, B, cmax=4, price_threshold = 4.0)\n",
    "        temp = mech.train_and_get_err([sum(i) for i in Costtrain], Xtrain, Ytrain, Xtest, Ytest)\n",
    "        naiveerrs10[bi] += temp / float(TRIALS)\n",
    "        naivesquared_errs10[bi] += temp*temp / float(TRIALS)\n",
    "\n",
    "plt.semilogx(budgets,naivesquared_errs10, linewidth=1.0)\n",
    "plt.title(\"Chen/Waggoner Algorithm with Correlated Features of c= 0.10\")\n",
    "plt.xlabel(\"Budget\")\n",
    "plt.ylabel(\"Risk\")"
   ]
  },
  {
   "cell_type": "code",
   "execution_count": 553,
   "metadata": {
    "collapsed": false
   },
   "outputs": [
    {
     "data": {
      "text/plain": [
       "<matplotlib.text.Text at 0x11b969850>"
      ]
     },
     "execution_count": 553,
     "metadata": {},
     "output_type": "execute_result"
    },
    {
     "data": {
      "image/png": "[encoded data removed]",
      "text/plain": [
       "<matplotlib.figure.Figure at 0x11bb04890>"
      ]
     },
     "metadata": {},
     "output_type": "display_data"
    }
   ],
   "source": [
    "mech = NaiveMech(GradientDescent(len(X_lr[0]), [1]), gen_seed())\n",
    "TRIALS = 100\n",
    "naiveerrs5 = [0.0]*len(budgets)\n",
    "naivesquared_errs5 = [0.0]*len(budgets)\n",
    "\n",
    "(Xtrain,Ytrain,Costtrain, Xtest,Ytest, Costtest) = split_dataset(Xlist, Ylist, cost_fts_5)\n",
    "T = len(Xtrain)\n",
    "num_features = len(Xtrain[0])\n",
    "avg_data_norm = np.apply_along_axis(np.linalg.norm, 1, Xtrain).mean()\n",
    "eta = 0.1 / avg_data_norm  # rough heuristic, because the norm of the data is not normalized [0,1]\n",
    "\n",
    "for trial in xrange(TRIALS):\n",
    "    (Xtrain,Ytrain,Costtrain, Xtest,Ytest, Costtest) = split_dataset(Xlist, Ylist, cost_fts_5)\n",
    "    for bi,B in enumerate(budgets):\n",
    "        mech.reset(eta, T, B, cmax=4, price_threshold = 4.0)\n",
    "        temp = mech.train_and_get_err([sum(i) for i in Costtrain], Xtrain, Ytrain, Xtest, Ytest)\n",
    "        naiveerrs5[bi] += temp / float(TRIALS)\n",
    "        naivesquared_errs5[bi] += temp*temp / float(TRIALS)\n",
    "\n",
    "plt.semilogx(budgets,naivesquared_errs5, linewidth=1.0)\n",
    "plt.title(\"Chen/Waggoner Algorithm with Correlated Features of c= 0.10\")\n",
    "plt.xlabel(\"Budget\")\n",
    "plt.ylabel(\"Risk\")"
   ]
  },
  {
   "cell_type": "code",
   "execution_count": 556,
   "metadata": {
    "collapsed": false
   },
   "outputs": [
    {
     "data": {
      "text/plain": [
       "<matplotlib.text.Text at 0x11bef33d0>"
      ]
     },
     "execution_count": 556,
     "metadata": {},
     "output_type": "execute_result"
    },
    {
     "data": {
      "image/png": "[encoded data removed]",
      "text/plain": [
       "<matplotlib.figure.Figure at 0x11bb04f90>"
      ]
     },
     "metadata": {},
     "output_type": "display_data"
    }
   ],
   "source": [
    "mech = NaiveMech(GradientDescent(len(X_lr[0]), [1]), gen_seed())\n",
    "\n",
    "naiveerrs15 = [0.0]*len(budgets)\n",
    "naivesquared_errs15 = [0.0]*len(budgets)\n",
    "\n",
    "(Xtrain,Ytrain,Costtrain, Xtest,Ytest, Costtest) = split_dataset(Xlist, Ylist, cost_fts_15)\n",
    "T = len(Xtrain)\n",
    "num_features = len(Xtrain[0])\n",
    "avg_data_norm = np.apply_along_axis(np.linalg.norm, 1, Xtrain).mean()\n",
    "eta = 0.1 / avg_data_norm  # rough heuristic, because the norm of the data is not normalized [0,1]\n",
    "\n",
    "for trial in xrange(TRIALS):\n",
    "    (Xtrain,Ytrain,Costtrain, Xtest,Ytest, Costtest) = split_dataset(Xlist, Ylist, cost_fts_15)\n",
    "    for bi,B in enumerate(budgets):\n",
    "        mech.reset(eta, T, B, cmax=4, price_threshold = 4.0)\n",
    "        temp = mech.train_and_get_err([sum(i) for i in Costtrain], Xtrain, Ytrain, Xtest, Ytest)\n",
    "        naiveerrs15[bi] += temp / float(TRIALS)\n",
    "        naivesquared_errs15[bi] += temp*temp / float(TRIALS)\n",
    "\n",
    "plt.semilogx(budgets,naivesquared_errs15, linewidth=1.0)\n",
    "plt.title(\"Chen/Waggoner Algorithm with Correlated Features of c= 0.10\")\n",
    "plt.xlabel(\"Budget\")\n",
    "plt.ylabel(\"Risk\")"
   ]
  },
  {
   "cell_type": "code",
   "execution_count": null,
   "metadata": {
    "collapsed": false
   },
   "outputs": [],
   "source": [
    "max(cost_fts_5)"
   ]
  },
  {
   "cell_type": "code",
   "execution_count": 572,
   "metadata": {
    "collapsed": false
   },
   "outputs": [
    {
     "data": {
      "text/plain": [
       "<matplotlib.legend.Legend at 0x11d6bce90>"
      ]
     },
     "execution_count": 572,
     "metadata": {},
     "output_type": "execute_result"
    },
    {
     "data": {
      "image/png": "[encoded data removed]",
      "text/plain": [
       "<matplotlib.figure.Figure at 0x11d269b50>"
      ]
     },
     "metadata": {},
     "output_type": "display_data"
    }
   ],
   "source": [
    "# plt.semilogx(budgets,squared_errs5, linewidth=1.5, label = 'Algo 2 Variance = 0.036')\n",
    "plt.semilogx(budgets,squared_errs10, linewidth=1.5, label = 'Algo 2 Variance = 0.576')\n",
    "# plt.semilogx(budgets,squared_errs15, linewidth=1.5, label = 'Algo 2 Variance = 0.324')\n",
    "# plt.semilogx(budgets[1:],errs20[1:], linewidth=1.5, label = 'Algo 2 Variance = 0.576')\n",
    "#plt.semilogx(budgets,naivesquared_errs5, linewidth=1.5, label = 'Naive  Variance = 0.036')\n",
    "# plt.semilogx(budgets[1:],naiveerrs10[1:], linewidth=1.5, label = 'Naive Variance = 0.144')\n",
    "#plt.semilogx(budgets,naivesquared_errs15, linewidth=1.5, label = 'Naive Variance = 0.324')\n",
    "plt.semilogx(budgets,naivesquared_errs20, linewidth=1.5, label = 'Naive Variance = 0.576')\n",
    "#plt.semilogx(budgets,errs40, linewidth=1.5, label = 'Correlation = 4.0')\n",
    "plt.title(\"Naive versus Algorithm with Variance = 0.576\")\n",
    "plt.xlabel(\"Budget\")\n",
    "plt.ylabel(\"Error\")\n",
    "plt.legend(loc = 3)"
   ]
  },
  {
   "cell_type": "code",
   "execution_count": null,
   "metadata": {
    "collapsed": true
   },
   "outputs": [],
   "source": [
    "mech = NaiveMech(GradientDescent(len(X_lr[0]), [1]), gen_seed())\n",
    "errs15 = [0.0]*len(budgets)\n",
    "squared_errs20 = [0.0]*len(budgets)\n",
    "\n",
    "(Xtrain,Ytrain,Costtrain, Xtest,Ytest, Costtest) = split_dataset(Xlist, Ylist, cost_fts_20)\n",
    "T = len(Xtrain)\n",
    "num_features = len(Xtrain[0])\n",
    "avg_data_norm = np.apply_along_axis(np.linalg.norm, 1, Xtrain).mean()\n",
    "eta = 0.1 / avg_data_norm  # rough heuristic, because the norm of the data is not normalized [0,1]\n",
    "\n",
    "for trial in xrange(TRIALS):\n",
    "    for bi,B in enumerate(budgets):\n",
    "        mech.reset(eta, T, B, cmax=5.0)\n",
    "        temp = mech.train_and_get_err([sum(i) for i in Costtrain], Xtrain, Ytrain, Xtest, Ytest)\n",
    "        errs20[bi] += temp / float(TRIALS)\n",
    "        squared_errs20[bi] += temp*temp / float(TRIALS)\n",
    "\n",
    "plt.semilogx(budgets,squared_errs20, linewidth=1.0)\n",
    "plt.title(\"Chen/Waggoner Algorithm with Correlated Features of c= 0.20\")\n",
    "plt.xlabel(\"Budget\")\n",
    "plt.ylabel(\"Risk\")"
   ]
  },
  {
   "cell_type": "code",
   "execution_count": 469,
   "metadata": {
    "collapsed": false
   },
   "outputs": [
    {
     "data": {
      "text/plain": [
       "<matplotlib.text.Text at 0x1167c1390>"
      ]
     },
     "execution_count": 469,
     "metadata": {},
     "output_type": "execute_result"
    },
    {
     "data": {
      "image/png": "[encoded data removed]",
      "text/plain": [
       "<matplotlib.figure.Figure at 0x11683b450>"
      ]
     },
     "metadata": {},
     "output_type": "display_data"
    }
   ],
   "source": [
    "naiveerrs15 = [0.0]*len(budgets)\n",
    "naivesquared_errs15 = [0.0]*len(budgets)\n",
    "\n",
    "(Xtrain,Ytrain,Costtrain, Xtest,Ytest, Costtest) = split_dataset(Xlist, Ylist, cost_fts_15)\n",
    "T = len(Xtrain)\n",
    "num_features = len(Xtrain[0])\n",
    "avg_data_norm = np.apply_along_axis(np.linalg.norm, 1, Xtrain).mean()\n",
    "eta = 0.1 / avg_data_norm  # rough heuristic, because the norm of the data is not normalized [0,1]\n",
    "\n",
    "for trial in xrange(TRIALS):\n",
    "    (Xtrain,Ytrain,Costtrain, Xtest,Ytest, Costtest) = split_dataset(Xlist, Ylist, cost_fts_5)\n",
    "    for bi,B in enumerate(budgets):\n",
    "        mech.reset(eta, T, B, cmax=2.5)\n",
    "        temp = mech.train_and_get_err([sum(i) for i in Costtrain], Xtrain, Ytrain, Xtest, Ytest)\n",
    "        naiveerrs15[bi] += temp / float(TRIALS)\n",
    "        naivesquared_errs15[bi] += temp*temp / float(TRIALS)\n",
    "\n",
    "plt.semilogx(budgets,naivesquared_errs15, linewidth=1.0)\n",
    "plt.title(\"Chen/Waggoner Algorithm with Correlated Features of c= 0.15\")\n",
    "plt.xlabel(\"Budget\")\n",
    "plt.ylabel(\"Risk\")"
   ]
  },
  {
   "cell_type": "code",
   "execution_count": 462,
   "metadata": {
    "collapsed": false
   },
   "outputs": [
    {
     "data": {
      "text/plain": [
       "(0.036019864737890123,\n",
       " 0.14407945895156049,\n",
       " 0.32417878264101102,\n",
       " 0.57631783580624196)"
      ]
     },
     "execution_count": 462,
     "metadata": {},
     "output_type": "execute_result"
    }
   ],
   "source": [
    "np.var(cost_fts_5), np.var(cost_fts_10), np.var(cost_fts_15), np.var(cost_fts_20)"
   ]
  },
  {
   "cell_type": "code",
   "execution_count": 456,
   "metadata": {
    "collapsed": false
   },
   "outputs": [
    {
     "data": {
      "text/plain": [
       "(0.011387093513254523,\n",
       " 0.041548698421409319,\n",
       " 0.083709647469109763,\n",
       " 0.13695134273257792)"
      ]
     },
     "execution_count": 456,
     "metadata": {},
     "output_type": "execute_result"
    }
   ],
   "source": [
    "np.var(cost_sg_5), np.var(cost_sg_10), np.var(cost_sg_15), np.var(cost_sg_20)"
   ]
  },
  {
   "cell_type": "code",
   "execution_count": 570,
   "metadata": {
    "collapsed": false
   },
   "outputs": [
    {
     "data": {
      "text/plain": [
       "100"
      ]
     },
     "execution_count": 570,
     "metadata": {},
     "output_type": "execute_result"
    }
   ],
   "source": [
    "TRIALS"
   ]
  },
  {
   "cell_type": "code",
   "execution_count": 595,
   "metadata": {
    "collapsed": false
   },
   "outputs": [
    {
     "data": {
      "text/plain": [
       "<matplotlib.text.Text at 0x11f3b1fd0>"
      ]
     },
     "execution_count": 595,
     "metadata": {},
     "output_type": "execute_result"
    },
    {
     "data": {
      "image/png": "[encoded data removed]",
      "text/plain": [
       "<matplotlib.figure.Figure at 0x11deee350>"
      ]
     },
     "metadata": {},
     "output_type": "display_data"
    }
   ],
   "source": [
    "mech = OurMech(GradientDescent(len(X_lr[0]), [1]), gen_seed())\n",
    "errssg20 = [0.0]*len(budgets)\n",
    "squared_errssg20 = [0.0]*len(budgets)\n",
    "\n",
    "(Xtrain,Ytrain,Costtrain, Xtest,Ytest, Costtest) = split_dataset(Xlist, Ylist, cost_sg_20)\n",
    "T = len(Xtrain)\n",
    "num_features = len(Xtrain[0])\n",
    "avg_data_norm = np.apply_along_axis(np.linalg.norm, 1, Xtrain).mean()\n",
    "eta = 0.1 / avg_data_norm  # rough heuristic, because the norm of the data is not normalized [0,1]\n",
    "\n",
    "for trial in xrange(TRIALS):\n",
    "    (Xtrain,Ytrain,Costtrain, Xtest,Ytest, Costtest) = split_dataset(Xlist, Ylist, cost_sg_20)\n",
    "    for bi,B in enumerate(budgets):\n",
    "        mech.reset(eta, T, B, cmax=1.6)\n",
    "        temp = mech.train_and_get_err([sum(i) for i in Costtrain], Xtrain, Ytrain, Xtest, Ytest)\n",
    "        errssg20[bi] += temp / float(TRIALS)\n",
    "        squared_errssg20[bi] += temp*temp / float(TRIALS)\n",
    "\n",
    "plt.semilogx(budgets,squared_errssg20, linewidth=1.5)\n",
    "plt.title(\"Chen/Waggoner Algorithm with Correlated Sample Groups of c= 0.20\")\n",
    "plt.xlabel(\"Budget\")\n",
    "plt.ylabel(\"Risk\")"
   ]
  },
  {
   "cell_type": "code",
   "execution_count": 596,
   "metadata": {
    "collapsed": false
   },
   "outputs": [
    {
     "data": {
      "text/plain": [
       "<matplotlib.text.Text at 0x11f51c350>"
      ]
     },
     "execution_count": 596,
     "metadata": {},
     "output_type": "execute_result"
    },
    {
     "data": {
      "image/png": "[encoded data removed]",
      "text/plain": [
       "<matplotlib.figure.Figure at 0x11ef10b90>"
      ]
     },
     "metadata": {},
     "output_type": "display_data"
    }
   ],
   "source": [
    "errssg15 = [0.0]*len(budgets)\n",
    "squared_errssg15 = [0.0]*len(budgets)\n",
    "\n",
    "(Xtrain,Ytrain,Costtrain, Xtest,Ytest, Costtest) = split_dataset(Xlist, Ylist, cost_sg_15)\n",
    "T = len(Xtrain)\n",
    "num_features = len(Xtrain[0])\n",
    "avg_data_norm = np.apply_along_axis(np.linalg.norm, 1, Xtrain).mean()\n",
    "eta = 0.1 / avg_data_norm  # rough heuristic, because the norm of the data is not normalized [0,1]\n",
    "\n",
    "for trial in xrange(TRIALS):\n",
    "    (Xtrain,Ytrain,Costtrain, Xtest,Ytest, Costtest) = split_dataset(Xlist, Ylist, cost_sg_15)\n",
    "    for bi,B in enumerate(budgets):\n",
    "        mech.reset(eta, T, B, cmax=1.5)\n",
    "        temp = mech.train_and_get_err([sum(i) for i in Costtrain], Xtrain, Ytrain, Xtest, Ytest)\n",
    "        errssg15[bi] += temp / float(TRIALS)\n",
    "        squared_errssg15[bi] += temp*temp / float(TRIALS)\n",
    "\n",
    "plt.semilogx(budgets,squared_errssg15, linewidth=1.5)\n",
    "plt.title(\"Chen/Waggoner Algorithm with Correlated Sample Groups of c= 0.20\")\n",
    "plt.xlabel(\"Budget\")\n",
    "plt.ylabel(\"Risk\")"
   ]
  },
  {
   "cell_type": "code",
   "execution_count": 574,
   "metadata": {
    "collapsed": false
   },
   "outputs": [
    {
     "data": {
      "text/plain": [
       "<matplotlib.text.Text at 0x11dafad50>"
      ]
     },
     "execution_count": 574,
     "metadata": {},
     "output_type": "execute_result"
    },
    {
     "data": {
      "image/png": "[encoded data removed]",
      "text/plain": [
       "<matplotlib.figure.Figure at 0x11db0e950>"
      ]
     },
     "metadata": {},
     "output_type": "display_data"
    }
   ],
   "source": [
    "errssg10 = [0.0]*len(budgets)\n",
    "squared_errssg10 = [0.0]*len(budgets)\n",
    "\n",
    "(Xtrain,Ytrain,Costtrain, Xtest,Ytest, Costtest) = split_dataset(Xlist, Ylist, cost_sg_10)\n",
    "T = len(Xtrain)\n",
    "num_features = len(Xtrain[0])\n",
    "avg_data_norm = np.apply_along_axis(np.linalg.norm, 1, Xtrain).mean()\n",
    "eta = 0.1 / avg_data_norm  # rough heuristic, because the norm of the data is not normalized [0,1]\n",
    "\n",
    "for trial in xrange(TRIALS):\n",
    "    for bi,B in enumerate(budgets):\n",
    "        mech.reset(eta, T, B, cmax=1.4)\n",
    "        (Xtrain,Ytrain,Costtrain, Xtest,Ytest, Costtest) = split_dataset(Xlist, Ylist, cost_sg_10)\n",
    "        temp = mech.train_and_get_err([sum(i) for i in Costtrain], Xtrain, Ytrain, Xtest, Ytest)\n",
    "        errssg10[bi] += temp / float(TRIALS)\n",
    "        squared_errssg10[bi] += temp*temp / float(TRIALS)\n",
    "\n",
    "plt.semilogx(budgets,squared_errssg10, linewidth=1.5)\n",
    "plt.title(\"Chen/Waggoner Algorithm with Correlated Sample Groups of c= 0.10\")\n",
    "plt.xlabel(\"Budget\")\n",
    "plt.ylabel(\"Risk\")"
   ]
  },
  {
   "cell_type": "code",
   "execution_count": 575,
   "metadata": {
    "collapsed": false
   },
   "outputs": [
    {
     "data": {
      "text/plain": [
       "<matplotlib.text.Text at 0x11dc94f50>"
      ]
     },
     "execution_count": 575,
     "metadata": {},
     "output_type": "execute_result"
    },
    {
     "data": {
      "image/png": "[encoded data removed]",
      "text/plain": [
       "<matplotlib.figure.Figure at 0x11dc8dad0>"
      ]
     },
     "metadata": {},
     "output_type": "display_data"
    }
   ],
   "source": [
    "errssg5 = [0.0]*len(budgets)\n",
    "squared_errs = [0.0]*len(budgets)\n",
    "\n",
    "(Xtrain,Ytrain,Costtrain, Xtest,Ytest, Costtest) = split_dataset(Xlist, Ylist, cost_sg_5)\n",
    "T = len(Xtrain)\n",
    "num_features = len(Xtrain[0])\n",
    "avg_data_norm = np.apply_along_axis(np.linalg.norm, 1, Xtrain).mean()\n",
    "eta = 0.1 / avg_data_norm  # rough heuristic, because the norm of the data is not normalized [0,1]\n",
    "\n",
    "for trial in xrange(TRIALS):\n",
    "    for bi,B in enumerate(budgets):\n",
    "        mech.reset(eta, T, B, cmax=1.3)\n",
    "        (Xtrain,Ytrain,Costtrain, Xtest,Ytest, Costtest) = split_dataset(Xlist, Ylist, cost_sg_5)\n",
    "        temp = mech.train_and_get_err([sum(i) for i in Costtrain], Xtrain, Ytrain, Xtest, Ytest)\n",
    "        errssg5[bi] += temp / float(TRIALS)\n",
    "        squared_errs[bi] += temp*temp / float(TRIALS)\n",
    "\n",
    "plt.semilogx(budgets,errssg5, linewidth=1.5)\n",
    "plt.title(\"Chen/Waggoner Algorithm with Correlated Sample Groups of c= 0.20\")\n",
    "plt.xlabel(\"Budget\")\n",
    "plt.ylabel(\"Risk\")"
   ]
  },
  {
   "cell_type": "code",
   "execution_count": 608,
   "metadata": {
    "collapsed": false
   },
   "outputs": [
    {
     "data": {
      "text/plain": [
       "0.040544050096685859"
      ]
     },
     "execution_count": 608,
     "metadata": {},
     "output_type": "execute_result"
    }
   ],
   "source": [
    "np.var(cost_sg_5)"
   ]
  },
  {
   "cell_type": "code",
   "execution_count": 610,
   "metadata": {
    "collapsed": false
   },
   "outputs": [
    {
     "data": {
      "text/plain": [
       "<matplotlib.legend.Legend at 0x120967510>"
      ]
     },
     "execution_count": 610,
     "metadata": {},
     "output_type": "execute_result"
    },
    {
     "data": {
      "image/png": "[encoded data removed]",
      "text/plain": [
       "<matplotlib.figure.Figure at 0x11d198d10>"
      ]
     },
     "metadata": {},
     "output_type": "display_data"
    }
   ],
   "source": [
    "plt.semilogx(budgets,squared_errssg20, linewidth=1.5, label = 'Variance = .406')\n",
    "plt.semilogx(budgets,squared_errssg15, linewidth=1.5, label = 'Variance = .272')\n",
    "plt.semilogx(budgets,squared_errssg10, linewidth=1.5, label = 'Variance = .140')\n",
    "plt.semilogx(budgets,squared_errs, linewidth=1.5, label = 'Variance = 0.041')\n",
    "plt.title(\"Algorithm 2 with Correlated Sample Groups \")\n",
    "plt.xlabel(\"Budget\")\n",
    "plt.ylabel(\"Error\")\n",
    "plt.legend()"
   ]
  },
  {
   "cell_type": "code",
   "execution_count": 593,
   "metadata": {
    "collapsed": false
   },
   "outputs": [
    {
     "data": {
      "text/plain": [
       "<matplotlib.text.Text at 0x11edc80d0>"
      ]
     },
     "execution_count": 593,
     "metadata": {},
     "output_type": "execute_result"
    },
    {
     "data": {
      "image/png": "[encoded data removed]",
      "text/plain": [
       "<matplotlib.figure.Figure at 0x11ebffed0>"
      ]
     },
     "metadata": {},
     "output_type": "display_data"
    }
   ],
   "source": [
    "mech = NaiveMech(GradientDescent(len(X_lr[0]), [1]), gen_seed())\n",
    "naiveerrssg20 = [0.0]*len(budgets)\n",
    "naivesquared_errssg20 = [0.0]*len(budgets)\n",
    "\n",
    "(Xtrain,Ytrain,Costtrain, Xtest,Ytest, Costtest) = split_dataset(Xlist, Ylist, cost_sg_20)\n",
    "T = len(Xtrain)\n",
    "num_features = len(Xtrain[0])\n",
    "avg_data_norm = np.apply_along_axis(np.linalg.norm, 1, Xtrain).mean()\n",
    "eta = 0.1 / avg_data_norm  # rough heuristic, because the norm of the data is not normalized [0,1]\n",
    "\n",
    "for trial in xrange(TRIALS):\n",
    "    (Xtrain,Ytrain,Costtrain, Xtest,Ytest, Costtest) = split_dataset(Xlist, Ylist, cost_sg_20)\n",
    "    for bi,B in enumerate(budgets):\n",
    "        mech.reset(eta, T, B, cmax=5.0, price_threshold = 2.0)\n",
    "        temp = mech.train_and_get_err([sum(i) for i in Costtrain], Xtrain, Ytrain, Xtest, Ytest)\n",
    "        naiveerrssg20[bi] += temp / float(TRIALS)\n",
    "        naivesquared_errssg20[bi] += temp*temp / float(TRIALS)\n",
    "\n",
    "plt.semilogx(budgets,naivesquared_errssg20, linewidth=1.0)\n",
    "plt.title(\"Chen/Waggoner Algorithm with Correlated Features of c= 0.20\")\n",
    "plt.xlabel(\"Budget\")\n",
    "plt.ylabel(\"Risk\")"
   ]
  },
  {
   "cell_type": "code",
   "execution_count": 591,
   "metadata": {
    "collapsed": false
   },
   "outputs": [
    {
     "data": {
      "text/plain": [
       "1.8585215711499132"
      ]
     },
     "execution_count": 591,
     "metadata": {},
     "output_type": "execute_result"
    }
   ],
   "source": []
  },
  {
   "cell_type": "code",
   "execution_count": 592,
   "metadata": {
    "collapsed": false
   },
   "outputs": [
    {
     "data": {
      "text/plain": [
       "<matplotlib.text.Text at 0x11ebf6fd0>"
      ]
     },
     "execution_count": 592,
     "metadata": {},
     "output_type": "execute_result"
    },
    {
     "data": {
      "image/png": "[encoded data removed]",
      "text/plain": [
       "<matplotlib.figure.Figure at 0x11ebffa90>"
      ]
     },
     "metadata": {},
     "output_type": "display_data"
    }
   ],
   "source": [
    "mech = NaiveMech(GradientDescent(len(X_lr[0]), [1]), gen_seed())\n",
    "naiveerrssg15 = [0.0]*len(budgets)\n",
    "naivesquared_errssg15 = [0.0]*len(budgets)\n",
    "\n",
    "(Xtrain,Ytrain,Costtrain, Xtest,Ytest, Costtest) = split_dataset(Xlist, Ylist, cost_sg_15)\n",
    "T = len(Xtrain)\n",
    "num_features = len(Xtrain[0])\n",
    "avg_data_norm = np.apply_along_axis(np.linalg.norm, 1, Xtrain).mean()\n",
    "eta = 0.1 / avg_data_norm  # rough heuristic, because the norm of the data is not normalized [0,1]\n",
    "\n",
    "for trial in xrange(TRIALS):\n",
    "    (Xtrain,Ytrain,Costtrain, Xtest,Ytest, Costtest) = split_dataset(Xlist, Ylist, cost_sg_15)\n",
    "    for bi,B in enumerate(budgets):\n",
    "        mech.reset(eta, T, B, cmax=5.0, price_threshold = 2.0)\n",
    "        temp = mech.train_and_get_err([sum(i) for i in Costtrain], Xtrain, Ytrain, Xtest, Ytest)\n",
    "        naiveerrssg15[bi] += temp / float(TRIALS)\n",
    "        naivesquared_errssg15[bi] += temp*temp / float(TRIALS)\n",
    "\n",
    "plt.semilogx(budgets,naivesquared_errssg15, linewidth=1.0)\n",
    "plt.title(\"Chen/Waggoner Algorithm with Correlated Features of c= 0.20\")\n",
    "plt.xlabel(\"Budget\")\n",
    "plt.ylabel(\"Risk\")"
   ]
  },
  {
   "cell_type": "code",
   "execution_count": 605,
   "metadata": {
    "collapsed": false
   },
   "outputs": [
    {
     "data": {
      "text/plain": [
       "<matplotlib.legend.Legend at 0x120616b10>"
      ]
     },
     "execution_count": 605,
     "metadata": {},
     "output_type": "execute_result"
    },
    {
     "data": {
      "image/png": "[encoded data removed]",
      "text/plain": [
       "<matplotlib.figure.Figure at 0x1202fe590>"
      ]
     },
     "metadata": {},
     "output_type": "display_data"
    }
   ],
   "source": [
    "plt.semilogx(budgets,squared_errssg15, linewidth=1.5, label = 'Algo 2 Variance = 0.272')\n",
    "# plt.semilogx(budgets,squared_errssg20, linewidth=1.5, label = 'Algo 2 Variance = 0.406')\n",
    "# plt.semilogx(budgets,squared_errssg15, linewidth=1.5, label = 'Correlation = 1.5')\n",
    "# plt.semilogx(budgets,squared_errssg10, linewidth=1.5, label = 'Correlation = 1.0')\n",
    "# plt.semilogx(budgets,squared_errs, linewidth=1.5, label = 'Correlation = 0.5')\n",
    "plt.semilogx(budgets,naivesquared_errssg15, linewidth=1.5, label = 'Naive Variance = 0.272')\n",
    "# plt.semilogx(budgets,naivesquared_errssg20, linewidth=1.5, label = 'Naive Variance = 0.406')\n",
    "\n",
    "plt.title(\"Naive vs Algo 2 with Correlated Sample Groups Variance = 0.272\")\n",
    "plt.xlabel(\"Budget\")\n",
    "plt.ylabel(\"Error\")\n",
    "plt.legend(loc = 0)"
   ]
  },
  {
   "cell_type": "code",
   "execution_count": 599,
   "metadata": {
    "collapsed": false
   },
   "outputs": [
    {
     "data": {
      "text/plain": [
       "0.40557220204313077"
      ]
     },
     "execution_count": 599,
     "metadata": {},
     "output_type": "execute_result"
    }
   ],
   "source": [
    "np.var(cost_sg_20)"
   ]
  },
  {
   "cell_type": "code",
   "execution_count": 351,
   "metadata": {
    "collapsed": true
   },
   "outputs": [],
   "source": [
    "from sklearn import linear_model"
   ]
  },
  {
   "cell_type": "code",
   "execution_count": 352,
   "metadata": {
    "collapsed": false
   },
   "outputs": [],
   "source": [
    "regr = linear_model.LinearRegression()"
   ]
  },
  {
   "cell_type": "code",
   "execution_count": 491,
   "metadata": {
    "collapsed": false
   },
   "outputs": [
    {
     "data": {
      "text/plain": [
       "LinearRegression(copy_X=True, fit_intercept=True, n_jobs=1, normalize=False)"
      ]
     },
     "execution_count": 491,
     "metadata": {},
     "output_type": "execute_result"
    }
   ],
   "source": [
    "regr.fit(Xtrain[:20],Ytrain[:20])"
   ]
  },
  {
   "cell_type": "code",
   "execution_count": 492,
   "metadata": {
    "collapsed": false
   },
   "outputs": [
    {
     "data": {
      "text/plain": [
       "array([ 0.66944114,  0.53785202,  0.86604821, -0.23404541,  1.2675027 ])"
      ]
     },
     "execution_count": 492,
     "metadata": {},
     "output_type": "execute_result"
    }
   ],
   "source": [
    "regr.coef_"
   ]
  },
  {
   "cell_type": "code",
   "execution_count": 493,
   "metadata": {
    "collapsed": false
   },
   "outputs": [
    {
     "data": {
      "text/plain": [
       "array([[ 0.39651236],\n",
       "       [ 0.41233631],\n",
       "       [ 0.48626399],\n",
       "       [ 0.19416273],\n",
       "       [ 0.80741692]])"
      ]
     },
     "execution_count": 493,
     "metadata": {},
     "output_type": "execute_result"
    }
   ],
   "source": [
    "h_lr"
   ]
  },
  {
   "cell_type": "code",
   "execution_count": 494,
   "metadata": {
    "collapsed": false
   },
   "outputs": [
    {
     "data": {
      "text/plain": [
       "0.11872224675918625"
      ]
     },
     "execution_count": 494,
     "metadata": {},
     "output_type": "execute_result"
    }
   ],
   "source": [
    "np.mean( (regr.predict(Xtest) - Ytest)**2)"
   ]
  },
  {
   "cell_type": "code",
   "execution_count": 490,
   "metadata": {
    "collapsed": false
   },
   "outputs": [
    {
     "data": {
      "text/plain": [
       "4999"
      ]
     },
     "execution_count": 490,
     "metadata": {},
     "output_type": "execute_result"
    }
   ],
   "source": [
    "len(Ytest)"
   ]
  },
  {
   "cell_type": "code",
   "execution_count": 358,
   "metadata": {
    "collapsed": false
   },
   "outputs": [
    {
     "data": {
      "text/plain": [
       "<bound method LinearRegression.predict of LinearRegression(copy_X=True, fit_intercept=True, n_jobs=1, normalize=False)>"
      ]
     },
     "execution_count": 358,
     "metadata": {},
     "output_type": "execute_result"
    }
   ],
   "source": []
  },
  {
   "cell_type": "code",
   "execution_count": null,
   "metadata": {
    "collapsed": true
   },
   "outputs": [],
   "source": []
  }
 ],
 "metadata": {
  "kernelspec": {
   "display_name": "Python 2",
   "language": "python",
   "name": "python2"
  },
  "language_info": {
   "codemirror_mode": {
    "name": "ipython",
    "version": 2
   },
   "file_extension": ".py",
   "mimetype": "text/x-python",
   "name": "python",
   "nbconvert_exporter": "python",
   "pygments_lexer": "ipython2",
   "version": "2.7.10"
  }
 },
 "nbformat": 4,
 "nbformat_minor": 0
}
