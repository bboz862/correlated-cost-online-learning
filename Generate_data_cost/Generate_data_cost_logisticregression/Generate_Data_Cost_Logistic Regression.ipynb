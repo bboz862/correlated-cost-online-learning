{
 "cells": [
  {
   "cell_type": "code",
   "execution_count": 1,
   "metadata": {
    "collapsed": false
   },
   "outputs": [],
   "source": [
    "import numpy as np\n",
    "import math as math\n",
    "\n",
    "'''\n",
    "This function is to generate data with binary label, based on the model of Logistic Regression\n",
    "'X' is sampled from a uniform distribution between [0,1]\n",
    "hypothesis 'h' is generated from a integer uniform distribution between [-5,5]\n",
    "the noise level 'sigma' is generated from a normal distribution with mean 0 and std sigma\n",
    "label y is generated in the way below:\n",
    "first generate y_linear=X*w+sigma as a linear problem\n",
    "and then use logistic regression model to transform y_linear to a probability between [0,1]\n",
    "and then generate a variable 'e' uniformly from [0,1], \n",
    "if y_linear>e ,set the label to be 1, otherwise set the label to be 0.\n",
    "\n",
    "Input: number of samples N,dimension of data d, noise level sigma\n",
    "\n",
    "Output: generate X, label y, realy hypothesis h\n",
    "'''\n",
    "\n",
    "def generate_data_lr(N,d,sigma):\n",
    "    # generate X uniform distributed between[-1,1]\n",
    "    X=np.random.uniform(-1,1,size=(N,d))\n",
    "    # generate noise normal distributed, mean 0, variance sigam^2\n",
    "    noise=np.random.normal(0.0,sigma,(N,1))\n",
    "    # add a collumnn of b so that the model is y=X*beta+b, \n",
    "    b=np.ones((N,1))\n",
    "    X_modify=np.concatenate((X,b),axis=1)\n",
    "    # generate hypothesis of the linear classification, it is d+1 dimension vector\n",
    "    h=np.random.uniform(-5.0,5.0,size=(d+1,1))\n",
    "    # generate value of y if it is a linear regression problem\n",
    "    y_linear=np.dot(X_modify,h)+noise\n",
    "    # transform y_linear into a  0-1 label based on logistic regression model\n",
    "    y=1 / (1 + np.exp(-y_linear))\n",
    "    for i in range(0,N):\n",
    "        e=np.random.uniform(0,1,size=(1,1))\n",
    "        if y[i,0]>=e:\n",
    "            y[i,0]=1\n",
    "        else:\n",
    "            y[i,0]=0\n",
    "    \n",
    "    return X,y,h\n",
    "\n",
    "\n",
    "\n",
    "\n",
    "\n",
    "'''\n",
    "function generate_cost_SampleGroup is to generate cost correlated with their group\n",
    "first randomly assign a group label for each sample, \n",
    "In each group, the cost is a normal distribution with a specific mean and variance\n",
    "Input:\n",
    "'Group_Number' is a integer showing the number of groups\n",
    "'Cost_Mean' is a 1-D vector contains the cost mean of each group\n",
    "'Cost_Var' is a 1-D vector contains the cost variance of each group\n",
    "'X' generated data\n",
    "'cost_sg' is a sample\n",
    "'''\n",
    "\n",
    "\n",
    "def generate_cost_SampleGroup(Group_Number,Cost_Mean,Cost_Var,X):\n",
    "    # number of samples\n",
    "    N=X.shape[0]\n",
    "    # initialize the cost vector of data\n",
    "    cost_sg=np.zeros((N,1))\n",
    "    # randomly assign group label for each sample\n",
    "    group_label=np.random.randint(1,Group_Number,(N,1))\n",
    "    # sample the cost for each sample\n",
    "    for i in range(0,N):\n",
    "        mean=Cost_Mean[int(group_label[i,0]),0];\n",
    "        var=Cost_Var[int(group_label[i,0]),0];\n",
    "        cost=np.random.normal(mean,var,1);\n",
    "        cost_sg[i,0]=cost;\n",
    "    \n",
    "    cost_sg=cost_sg/np.sum(cost_sg, axis=0)*N\n",
    "    return cost_sg\n",
    "\n",
    "'''\n",
    "function convex_cff and linear_cff are two functions that map a specific feature to a cost\n",
    "Input 'a','b','c' the parameter in the function ,'x' the feature\n",
    "'''\n",
    "\n",
    "def convex_cff(a,b,c,x):\n",
    "    cost=a*np.multiply(x,x)+b*x+c\n",
    "    return cost\n",
    "\n",
    "def linear_cff(a,b,x):\n",
    "    cost=a*x+b\n",
    "    return cost\n",
    "\n",
    "'''\n",
    "This function is for generate features correlated with features, \n",
    "Input: X, generated features\n",
    "       coeff: cost function parameter for every feature,\n",
    "       for exaple, if I use convex_cff, then for each feature i I have [coeff[i,0],coeff[i,1],coeff[i,2]]\n",
    "       corresponding to a,b c in the function\n",
    "       w: weight parameter for every features\n",
    "Output: the normalized output cost correlated with features\n",
    "'''\n",
    "\n",
    "\n",
    "def generate_cost_Features(X,coeff,w):\n",
    "    N=X.shape[0]\n",
    "    d=X.shape[1]\n",
    "    # calculate the cost for each features\n",
    "    for i in range(0,d):\n",
    "        X[:,i]=convex_cff(coeff[i,0],coeff[i,1],coeff[i,2],X[:,i])\n",
    "    cost_fts=np.dot(X,w)\n",
    "    # normalized cost, for each data set the total cost is the number of its data points\n",
    "    cost_fts=cost_fts/np.sum(cost_fts, axis=0)*N\n",
    "    return cost_fts"
   ]
  },
  {
   "cell_type": "code",
   "execution_count": 27,
   "metadata": {
    "collapsed": false
   },
   "outputs": [
    {
     "name": "stdout",
     "output_type": "stream",
     "text": [
      "[[-0.92711191  0.52823456 -0.84195288 -0.50882052  0.68765288]\n",
      " [ 0.42468134 -0.92163989  0.72315875 -0.33188374 -0.01161615]\n",
      " [ 0.13243534 -0.22824276  0.28808314 -0.6732574   0.61992784]\n",
      " ..., \n",
      " [ 0.83489957  0.42418007 -0.72573145  0.24859215  0.51895011]\n",
      " [-0.88537941  0.80247989 -0.36503104 -0.42941014 -0.6434581 ]\n",
      " [ 0.03722929 -0.51082025  0.03310437  0.48793054 -0.07286725]] [[ 1.]\n",
      " [ 1.]\n",
      " [ 1.]\n",
      " ..., \n",
      " [ 1.]\n",
      " [ 0.]\n",
      " [ 1.]]\n",
      "[[ 1.03794552]\n",
      " [ 1.03787485]\n",
      " [ 1.03488184]\n",
      " ..., \n",
      " [ 1.03305227]\n",
      " [ 1.03177359]\n",
      " [ 0.77641804]]\n",
      "[[ 1.19253475]\n",
      " [ 0.94436918]\n",
      " [ 1.15933325]\n",
      " ..., \n",
      " [ 1.19473433]\n",
      " [ 0.81847624]\n",
      " [ 0.80868319]]\n"
     ]
    }
   ],
   "source": [
    "#Initialize the number of samples, data points and noise level\n",
    "N=10000\n",
    "d=5\n",
    "sigma=0.01\n",
    "# generate data based on logistic regression model\n",
    "[X_lr,y_lr,h_lr]=generate_data_lr(N,d,sigma)\n",
    "print X_lr,y_lr\n",
    "np.savetxt('X_lr.txt', X_lr, delimiter=',')\n",
    "np.savetxt('y_lr.txt', y_lr, delimiter=',')\n",
    "np.savetxt('h_lr.txt',h_lr,delimiter=',')\n",
    "\n",
    "#Initialize the parameter for generate the cost correlated with sample groups\n",
    "Group_Number=5;\n",
    "Cost_Mean=np.random.randint(5,10,(Group_Number,1))\n",
    "sigma_cost=0.01\n",
    "Cost_Var=sigma_cost*np.random.randint(1,5,(Group_Number,1))\n",
    "cost_sg=generate_cost_SampleGroup(Group_Number, Cost_Mean,Cost_Var,X_lr)\n",
    "print cost_sg   \n",
    "np.savetxt('cost_sg.txt', cost_sg, delimiter=',')\n",
    "\n",
    "#Initialize the parameter for generate the cost correlated with features\n",
    "Group_Number=5;\n",
    "coeff=np.random.uniform(0.0,1.0,(d,3))\n",
    "w=np.random.uniform(0.0,1.0,(d,1))\n",
    "cost_fts=generate_cost_Features(X_lr,coeff,w)\n",
    "print cost_fts\n",
    "np.savetxt('cost_fts.txt', cost_fts, delimiter=',')"
   ]
  },
  {
   "cell_type": "code",
   "execution_count": 4,
   "metadata": {
    "collapsed": false
   },
   "outputs": [
    {
     "ename": "NameError",
     "evalue": "name 'x_lr' is not defined",
     "output_type": "error",
     "traceback": [
      "\u001b[0;31m---------------------------------------------------------------------------\u001b[0m",
      "\u001b[0;31mNameError\u001b[0m                                 Traceback (most recent call last)",
      "\u001b[0;32m<ipython-input-4-0141f6f176fb>\u001b[0m in \u001b[0;36m<module>\u001b[0;34m()\u001b[0m\n\u001b[0;32m----> 1\u001b[0;31m \u001b[0mx_lr\u001b[0m\u001b[0;34m\u001b[0m\u001b[0m\n\u001b[0m",
      "\u001b[0;31mNameError\u001b[0m: name 'x_lr' is not defined"
     ]
    }
   ],
   "source": []
  },
  {
   "cell_type": "code",
   "execution_count": 3,
   "metadata": {
    "collapsed": true
   },
   "outputs": [],
   "source": [
    "import random\n",
    "import numpy as np \n",
    "\n",
    "class GradientDescent(object):\n",
    "    \"\"\"\n",
    "    Implementation of a gradient descent algorithm for binary classification.\n",
    "    The loss function is 1 if classified incorrectly, 0 if correctly,\n",
    "      but use a hinge loss for training.\n",
    "    Initialized with a list of digits to be labeled positively\n",
    "      (all others negatively).\n",
    "    The algorithm initializes self.w to be a vector of 0's.\n",
    "    Then for each of a sequence of rounds, check if the loss is positive;\n",
    "        if so do a gradient descent update.\n",
    "    Supports methods:\n",
    "        reset(eta)\n",
    "        norm_grad_loss(x, y)\n",
    "        test_error(X, Y)\n",
    "        data_update(x, y, importance_wt)\n",
    "        null_update()\n",
    "    \"\"\"\n",
    "    def __init__(self, num_features, pos_labels, eta=0.1):\n",
    "        # num_features = length of the x vector\n",
    "        # pos_labels   = list of digits in [0,9] to label positively (others negatively)\n",
    "        self.num_features = num_features\n",
    "        self.binarized_labels = [1.0 if l in pos_labels else -1.0 for l in range(10)]\n",
    "        self.reset(eta)\n",
    "        super(GradientDescent, self).__init__()\n",
    "\n",
    "    def reset(self, eta):\n",
    "        self.eta = eta\n",
    "        self.w = np.zeros(self.num_features)\n",
    "        self.avg_w = self.w\n",
    "        self.steps = 0\n",
    "    \n",
    "    # predict on only a single datapoint, using avg_w\n",
    "    def _predict_one(self,x):\n",
    "        return np.sign(self.avg_w.dot(x))\n",
    "\n",
    "    # predict on a matrix of data (shape is numdata * numfeatures)\n",
    "    def _predict(self,X):\n",
    "        Ypreds = np.apply_along_axis(self._predict_one, 1, X)\n",
    "        return Ypreds\n",
    "\n",
    "    # predict and report error on data (shape is numdata * numfeatures)\n",
    "    def test_error(self, X, Y):\n",
    "        Ypred = self._predict(X)\n",
    "        return np.mean(map(lambda y : self.binarized_labels[y], Y) != Ypred)\n",
    "\n",
    "    def _loss(self,x,biny):\n",
    "        score = self.w.dot(x) * biny\n",
    "        return max(1. - score, 0.)\n",
    "\n",
    "    def _grad_loss(self, x, biny):\n",
    "        # gradient of the loss\n",
    "        loss = self._loss(x,biny)\n",
    "        if loss > 0.:\n",
    "            return -biny * x\n",
    "        return np.zeros(self.num_features)\n",
    "\n",
    "    def norm_grad_loss(self, x, y):\n",
    "        # l2 norm of the gradient of the loss\n",
    "        return np.linalg.norm(self._grad_loss(x,self.binarized_labels[y]))\n",
    "\n",
    "    def _step(self):\n",
    "        # every step, whether we got a data_update or a null_update, we need to\n",
    "        # step the average\n",
    "        self.avg_w = (self.avg_w * self.steps + self.w) / float(self.steps + 1.0)\n",
    "        self.steps += 1\n",
    "\n",
    "    # Do an importance-weighted gradient descent update on the hypothesis\n",
    "    def data_update(self, x, y, importance_wt):\n",
    "        biny = self.binarized_labels[y]\n",
    "        loss = self._loss(x,biny)\n",
    "        if loss > 0.:\n",
    "            step = self.eta * self._grad_loss(x, biny)\n",
    "            self.w = self.w - step / importance_wt\n",
    "        self._step()\n",
    "\n",
    "    # Do an update with no new data\n",
    "    def null_update(self):\n",
    "        self._step()\n",
    "\n"
   ]
  },
  {
   "cell_type": "code",
   "execution_count": 8,
   "metadata": {
    "collapsed": true
   },
   "outputs": [],
   "source": [
    "import random\n",
    "import numpy as np \n",
    "\n",
    "# Rather than initializing with prior knowledge, we simply estimate gamma\n",
    "# online with a simple heuristic and set the normalizer K accordingly.\n",
    "\n",
    "# Estimating gamma:\n",
    "# We are using an importance-weighted estimate of gamma from the past data, i.e:\n",
    "#   gamma = (1/(# steps))*(sum_{t < now} {0 if we did not observe t,  else this_round_gamma / q_t}\n",
    "# where this_round_gamma = Delta(h_t,loss(.,z_t)) * (2sqrt(cmax) - sqrt(max(c*, c_t)))\n",
    "# and   q_t = Pr[ we posted a price higher than c_t for z_t ].\n",
    "\n",
    "# We also allow for discounting of past data by use of a discount factor.\n",
    "# This allows for forgetting past data as things change. Thus, the actual estimate is\n",
    "#   numerator = sum_{t <= s} discount^{s-t} {0 if not observe t, else .... }\n",
    "#   denominator = sum_{t <= s} discount^{s-t}\n",
    "#   gamma = numerator / denominator\n",
    "# For the paper we used discount=1, which reduces to the first, simpler estimator.\n",
    "\n",
    "# We initialize the numerator by 0 and denominator by a + b * T^c,\n",
    "# which is intended to act as a regularizer so we start with some momentum to buy points\n",
    "# and slowly decrease the buying rate as appropriate.\n",
    "\n",
    "\n",
    "INIT_GAMMA_A = 10.0\n",
    "INIT_GAMMA_B = 0.00001\n",
    "INIT_GAMMA_C = 0.1\n",
    "DISCOUNT = 1.0  # a discount factor for estimating gamma, if < 1, then old data is slowly forgotten\n",
    "\n",
    "class OurMech(object):\n",
    "    \"\"\"\n",
    "    This is our mechanism.\n",
    "    It is initialized for either the usual setting (default),\n",
    "  or \"at-cost\" (pay only the cost rather than your posted price).\n",
    "    \"\"\"\n",
    "    def __init__(self, alg, seed, T=1, B=1, eta=0.1, cmax=1.0, atcost = False):\n",
    "        self.alg = alg\n",
    "        self.randgen = random.Random(seed)\n",
    "        self.atcost = atcost\n",
    "        self.reset(eta, T, B, cmax=cmax)\n",
    "        super(OurMech, self).__init__()\n",
    "\n",
    "    # cmax = maximum cost\n",
    "    def reset(self, eta, T, B, cmax = 1.0):\n",
    "        self.T = T\n",
    "        self.B = B\n",
    "        self.cmax = cmax\n",
    "        self.spend = 0\n",
    "        self.step = 0\n",
    "        self.gamma_num = 0.0  # numerator\n",
    "        self.gamma_den = INIT_GAMMA_A + INIT_GAMMA_B * float(T)**INIT_GAMMA_C\n",
    "        self.gamma = self.gamma_num / self.gamma_den\n",
    "        self.alg.reset(eta)\n",
    "\n",
    "    # given quantile = Pr[price >= x], find and return x\n",
    "    def _get_price(self, quantile, delta, K):\n",
    "        if K == 0.0:\n",
    "            return self.cmax\n",
    "        val = delta / (K * quantile)\n",
    "        return min(self.cmax , val ** 2.0)\n",
    "\n",
    "    # return the probability price exceeds c\n",
    "    def _prob_exceeds(self, c, delta, K):\n",
    "        if K == 0.0 or c == 0.0:\n",
    "            return 1.0\n",
    "        return min(1.0 , delta / (K * c**0.5))\n",
    "\n",
    "    # update our estimate of gamma (using it to set the normalizer K next round)\n",
    "    def _update_gamma(self, cost, price, K, delta, prob_purchase):\n",
    "        self.gamma_num *= DISCOUNT  # we will add something if we obtain the point\n",
    "        self.gamma_den = self.gamma_den*DISCOUNT + 1.0\n",
    "        if price >= cost:\n",
    "            if self.atcost:\n",
    "                self.gamma_num += delta * cost**0.5 / prob_purchase  # importance-weighted\n",
    "            else:\n",
    "                cstar = self.cmax if K == 0.0 else min(self.cmax, (delta / K)**2.0)\n",
    "                self.gamma_num += delta * (2.0*self.cmax**0.5 - max(cost, cstar)**0.5) / prob_purchase\n",
    "        self.gamma = self.gamma_num / self.gamma_den\n",
    "\n",
    "    def _train(self, costs, Xtrain, Ytrain):\n",
    "        for i in xrange(len(costs)):\n",
    "            self.step += 1\n",
    "            delta = self.alg.norm_grad_loss(Xtrain[i], Ytrain[i])\n",
    "            c = costs[i]\n",
    "            K = self.gamma * float(self.T - self.step) / (self.B - self.spend)\n",
    "            quantile = self.randgen.random()\n",
    "            price = self._get_price(quantile, delta, K)\n",
    "            if price >= c:  # obtain the point\n",
    "                prob_purchase = self._prob_exceeds(c, delta, K)\n",
    "                self.alg.data_update(Xtrain[i], Ytrain[i], prob_purchase)\n",
    "                if self.atcost:\n",
    "                    self.spend += c\n",
    "                else:\n",
    "                    self.spend += price\n",
    "                if self.spend >= self.B:\n",
    "                    break\n",
    "                self._update_gamma(c, price, K, delta, prob_purchase)\n",
    "            else:\n",
    "                self.alg.null_update()\n",
    "\n",
    "    def train_and_get_err(self, costs, Xtrain, Ytrain, Xtest, Ytest):\n",
    "        self._train(costs, Xtrain, Ytrain)\n",
    "        return self.alg.test_error(Xtest, Ytest)"
   ]
  },
  {
   "cell_type": "code",
   "execution_count": 9,
   "metadata": {
    "collapsed": false
   },
   "outputs": [
    {
     "data": {
      "text/plain": [
       "5"
      ]
     },
     "execution_count": 9,
     "metadata": {},
     "output_type": "execute_result"
    }
   ],
   "source": [
    "len(X_lr[0])"
   ]
  },
  {
   "cell_type": "code",
   "execution_count": 10,
   "metadata": {
    "collapsed": true
   },
   "outputs": [],
   "source": [
    "TRAIN_FRACTION = 0.1"
   ]
  },
  {
   "cell_type": "code",
   "execution_count": 11,
   "metadata": {
    "collapsed": true
   },
   "outputs": [],
   "source": [
    "import sys\n",
    "import random\n",
    "def gen_seed():\n",
    "    return random.randint(0,sys.maxint-1)\n"
   ]
  },
  {
   "cell_type": "code",
   "execution_count": 12,
   "metadata": {
    "collapsed": false
   },
   "outputs": [],
   "source": [
    "mech = OurMech(GradientDescent(len(X_lr[0]), [1]), gen_seed())"
   ]
  },
  {
   "cell_type": "code",
   "execution_count": 13,
   "metadata": {
    "collapsed": true
   },
   "outputs": [],
   "source": [
    "budgets = map(float, [40, 80, 160, 320])\n"
   ]
  },
  {
   "cell_type": "code",
   "execution_count": 14,
   "metadata": {
    "collapsed": true
   },
   "outputs": [],
   "source": [
    "def split_dataset(Xlist, Ylist, costs):\n",
    "    # divide the dataset into train and test\n",
    "    num_train_points = int(len(Xlist) * TRAIN_FRACTION)\n",
    "    indices = range(len(Xlist))\n",
    "    random.shuffle(indices)\n",
    "    Xtrain = [Xlist[i] for i in indices[0:num_train_points]]\n",
    "    Ytrain = [Ylist[i] for i in indices[0:num_train_points]]\n",
    "    Costtrain = [costs[i] for i in indices[0:num_train_points]]\n",
    "    Xtest  = [Xlist[i] for i in indices[num_train_points:-1]]\n",
    "    Ytest  = [Ylist[i] for i in indices[num_train_points:-1]]\n",
    "    Costtest = [costs[i] for i in indices[num_train_points:-1]]\n",
    "    return (Xtrain,Ytrain,Costtrain, Xtest,Ytest, Costtest)\n"
   ]
  },
  {
   "cell_type": "code",
   "execution_count": 15,
   "metadata": {
    "collapsed": true
   },
   "outputs": [],
   "source": [
    "my_seed = gen_seed()  # so we can record it and reproduce the entire experiment\n",
    "random.seed(my_seed)"
   ]
  },
  {
   "cell_type": "code",
   "execution_count": 16,
   "metadata": {
    "collapsed": false
   },
   "outputs": [],
   "source": [
    "Xlist = X_lr\n",
    "Ylist = [int(y) for y in y_lr]\n",
    "num_examples = [0]*2\n",
    "for y in Ylist:\n",
    "    num_examples[y] += 1    # labels are 0,...,9"
   ]
  },
  {
   "cell_type": "code",
   "execution_count": 17,
   "metadata": {
    "collapsed": false
   },
   "outputs": [],
   "source": [
    "errs = [0.0]*len(budgets)\n",
    "squared_errs = [0.0]*len(budgets)\n"
   ]
  },
  {
   "cell_type": "code",
   "execution_count": 18,
   "metadata": {
    "collapsed": true
   },
   "outputs": [],
   "source": [
    "TRIALS = 10"
   ]
  },
  {
   "cell_type": "code",
   "execution_count": 19,
   "metadata": {
    "collapsed": false
   },
   "outputs": [
    {
     "name": "stdout",
     "output_type": "stream",
     "text": [
      "TRIAL 0\n",
      "TRIAL 1\n",
      "TRIAL 2\n",
      "TRIAL 3\n",
      "TRIAL 4\n",
      "TRIAL 5\n",
      "TRIAL 6\n",
      "TRIAL 7\n",
      "TRIAL 8\n",
      "TRIAL 9\n"
     ]
    }
   ],
   "source": [
    "(Xtrain,Ytrain,Costtrain, Xtest,Ytest, Costtest) = split_dataset(Xlist, Ylist, cost_fts)\n",
    "T = len(Xtrain)\n",
    "num_features = len(Xtrain[0])\n",
    "avg_data_norm = np.apply_along_axis(np.linalg.norm, 1, Xtrain).mean()\n",
    "eta = 0.1 / avg_data_norm  # rough heuristic, because the norm of the data is not normalized [0,1]\n",
    "\n",
    "for trial in xrange(TRIALS):\n",
    "    print \"TRIAL \" + str(trial)\n",
    "    for bi,B in enumerate(budgets):\n",
    "        mech.reset(eta, T, B, cmax=1.0)\n",
    "        temp = mech.train_and_get_err([i[0]/10 for i in Costtrain], Xtrain, Ytrain, Xtest, Ytest)\n",
    "        errs[bi] += temp / float(TRIALS)\n",
    "        squared_errs[bi] += temp*temp / float(TRIALS)\n"
   ]
  },
  {
   "cell_type": "code",
   "execution_count": 20,
   "metadata": {
    "collapsed": false
   },
   "outputs": [
    {
     "data": {
      "text/plain": [
       "([0.39142126902989222,\n",
       "  0.23804867207467501,\n",
       "  0.22401377930881211,\n",
       "  0.21557950883431495],\n",
       " [0.16038290533226018,\n",
       "  0.057298423633666454,\n",
       "  0.050280206091721534,\n",
       "  0.046479636876347381])"
      ]
     },
     "execution_count": 20,
     "metadata": {},
     "output_type": "execute_result"
    }
   ],
   "source": [
    "errs, squared_errs"
   ]
  },
  {
   "cell_type": "code",
   "execution_count": 23,
   "metadata": {
    "collapsed": true
   },
   "outputs": [],
   "source": [
    "import matplotlib, matplotlib.pyplot as plt\n",
    "%matplotlib inline"
   ]
  },
  {
   "cell_type": "code",
   "execution_count": 28,
   "metadata": {
    "collapsed": false
   },
   "outputs": [
    {
     "data": {
      "text/plain": [
       "<matplotlib.text.Text at 0x10531de50>"
      ]
     },
     "execution_count": 28,
     "metadata": {},
     "output_type": "execute_result"
    },
    {
     "data": {
      "image/png": "[encoded data removed]",
      "text/plain": [
       "<matplotlib.figure.Figure at 0x1054c3850>"
      ]
     },
     "metadata": {},
     "output_type": "display_data"
    }
   ],
   "source": [
    "plt.plot(budgets,errs, linewidth=1.5)\n",
    "plt.title(\"Chen/Waggoner Algorithm with Correlated Features\")\n",
    "plt.xlabel(\"Budget\")\n",
    "plt.ylabel(\"Risk\")"
   ]
  },
  {
   "cell_type": "code",
   "execution_count": 29,
   "metadata": {
    "collapsed": false
   },
   "outputs": [
    {
     "name": "stdout",
     "output_type": "stream",
     "text": [
      "TRIAL 0\n",
      "TRIAL 1\n",
      "TRIAL 2\n",
      "TRIAL 3\n",
      "TRIAL 4\n",
      "TRIAL 5\n",
      "TRIAL 6\n",
      "TRIAL 7\n",
      "TRIAL 8\n",
      "TRIAL 9\n"
     ]
    }
   ],
   "source": [
    "(Xtrain,Ytrain,Costtrain, Xtest,Ytest, Costtest) = split_dataset(Xlist, Ylist, cost_sg)\n",
    "T = len(Xtrain)\n",
    "num_features = len(Xtrain[0])\n",
    "avg_data_norm = np.apply_along_axis(np.linalg.norm, 1, Xtrain).mean()\n",
    "eta = 0.1 / avg_data_norm  # rough heuristic, because the norm of the data is not normalized [0,1]\n",
    "\n",
    "for trial in xrange(TRIALS):\n",
    "    print \"TRIAL \" + str(trial)\n",
    "    for bi,B in enumerate(budgets):\n",
    "        mech.reset(eta, T, B, cmax=1.0)\n",
    "        temp = mech.train_and_get_err([i[0]/10 for i in Costtrain], Xtrain, Ytrain, Xtest, Ytest)\n",
    "        errs[bi] += temp / float(TRIALS)\n",
    "        squared_errs[bi] += temp*temp / float(TRIALS)"
   ]
  },
  {
   "cell_type": "code",
   "execution_count": 31,
   "metadata": {
    "collapsed": false
   },
   "outputs": [
    {
     "data": {
      "text/plain": [
       "<matplotlib.text.Text at 0x1057bc450>"
      ]
     },
     "execution_count": 31,
     "metadata": {},
     "output_type": "execute_result"
    },
    {
     "data": {
      "image/png": "[encoded data removed]",
      "text/plain": [
       "<matplotlib.figure.Figure at 0x10596fc10>"
      ]
     },
     "metadata": {},
     "output_type": "display_data"
    }
   ],
   "source": [
    "plt.plot(budgets,errs, linewidth=1.5)\n",
    "plt.title(\"Chen/Waggoner Algorithm with Correlated Sample Group\")\n",
    "plt.xlabel(\"Budget\")\n",
    "plt.ylabel(\"Risk\")"
   ]
  },
  {
   "cell_type": "code",
   "execution_count": null,
   "metadata": {
    "collapsed": true
   },
   "outputs": [],
   "source": []
  }
 ],
 "metadata": {
  "kernelspec": {
   "display_name": "Python 2",
   "language": "python",
   "name": "python2"
  },
  "language_info": {
   "codemirror_mode": {
    "name": "ipython",
    "version": 2
   },
   "file_extension": ".py",
   "mimetype": "text/x-python",
   "name": "python",
   "nbconvert_exporter": "python",
   "pygments_lexer": "ipython2",
   "version": "2.7.10"
  }
 },
 "nbformat": 4,
 "nbformat_minor": 0
}
